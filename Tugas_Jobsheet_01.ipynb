{
 "cells": [
  {
   "cell_type": "code",
   "execution_count": 6,
   "metadata": {},
   "outputs": [],
   "source": [
    "orange = [\"The Five Orange Pips\"]\n",
    "\n",
    "orange_1 = \"When I glance over my notes and records of the Sherlock Holmes cases between the years '82 and '90, I am faced by so many which present strange and interesting features that it is no easy matter to know which to choose and which to leave. Some, however, have already gained publicity through the papers, and others have not offered a field for those peculiar qualities which my friend possessed in so high a degree, and which it is the object of these papers to illustrate. Some, too, have baffled his analytical skill, and would be, as narratives, beginnings without an ending, while others have been but partially cleared up, and have their explanations founded rather upon conjecture and surmise than on that absolute logical proof which was so dear to him. There is, however, one of these last which was so remarkable in its details and so startling in its results that I am tempted to give some account of it in spite of the fact that there are points in connection with it which never have been, and probably never will be, entirely cleared up.\"\n",
    "\n",
    "orange_2 = \"The year '87 furnished us with a long series of cases of greater or less interest, of which I retain the records. Among my headings under this one twelve months I find an account of the adventure of the Paradol Chamber, of the Amateur Mendicant Society, who held a luxurious club in the lower vault of a furniture warehouse, of the facts connected with the loss of the British bark Sophy Anderson, of the singular adventures of the Grice Patersons in the island of Uffa, and finally of the Camberwell poisoning case. In the latter, as may be remembered, Sherlock Holmes was able, by winding up the dead man's watch, to prove that it had been wound up two hours before, and that therefore the deceased had gone to bed within that time -- a deduction which was of the greatest importance in clearing up the case. All these I may sketch out at some future date, but none of them present such singular features as the strange train of circumstances which I have now taken up my pen to describe.\"\n",
    "\n",
    "orange_3 = \"‘It was in the latter days of September, and the equinoctial gales had set in with exceptional violence. All day the wind had screamed and the rain had beaten against the windows, so that even here in the heart of great, handmade London we were forced to raise our minds for the instant from the routine of life and to recognize the presence of those great elemental forces which shriek at mankind through the bars of his civilization, like untamed beasts in a cage. As evening drew in, the storm grew higher and louder, and the wind cried and sobbed like a child in the chimney. Sherlock Holmes sat moodily at one side of the fireplace cross-indexing his records of crime, while I at the other was deep in one of Clark Russell's fine sea-stories until the howl of the gale from without seemed to blend with the text, and the splash of the rain to lengthen out into the long swash of the sea waves. My wife was on a visit to her mother's, and for a few days I was a dweller once more in my old quarters at Baker Street.’\"\n",
    "\n",
    "orange_4 = \"‘Why,’ said I, glancing up at my companion, ‘that was surely the bell. Who could come tonight? Some friend of yours, perhaps?’ ‘Except yourself I have none,’ he answered. ‘I do not encourage visitors.’ ‘A client, then?’ ‘If so, it is a serious case. Nothing less would bring a man out on such a day and at such an hour. But I take it that it is more likely to be some crony of the landladies.’\"\n",
    "\n",
    "orange_5 = \"Sherlock Holmes was wrong in his conjecture, however, for there came a step in the passage and a tapping at the door. He stretched out his long arm to turn the lamp away from himself and towards the vacant chair upon which a newcomer must sit. ‘Come in!’ said he.\"\n",
    "\n",
    "orange_6 = \"The man who entered was young, some two-and-twenty at the outside, well-groomed and trimly clad, with something of refinement and delicacy in his bearing. The streaming umbrella which he held in his hand, and his long shining waterproof told of the fierce weather through which he had come. He looked about him anxiously in the glare of the lamp, and I could see that his face was pale and his eyes heavy, like those of a man who is weighed down with some great anxiety.\"\n",
    "\n",
    "orange_7 = \"‘l owe you an apology,’ he said, raising his golden pince-nez to his eyes. ‘I trust that I am not intruding. I fear that I have brought some traces of the storm and rain into your snug chamber.’ ‘Give me your coat and umbrella,’ said Holmes. ‘They may rest here on the hook and will be dry presently. You have come up from the south-west, I see.’ ‘Yes, from Horsham.’ ‘That clay and chalk mixture which I see upon your toe caps is quite distinctive.’ ‘I have come for advice.’ ‘That is easily got.’ ‘And help.’ ‘That is not always so easy.’ ‘I have heard of you, Mr. Holmes. I heard from Major Prendergast how you saved him in the Tankerville Club scandal.’ ‘Ah, of course. He was wrongfully accused of cheating at cards.’ ‘He said that you could solve anything.’ ‘He said too much.’ ‘That you are never beaten.’ ‘I have been beaten four times - three times by men, and once by a woman.’ ‘But what is that compared with the number of your successes?’ ‘It is true that I have been generally successful.’ ‘Then you may be so with me.’ ‘I beg that you will draw your chair up to the fire and favour me with some details as to your case.’ ‘It is no ordinary one.’ ‘None of those which come to me are. I am the last court of appeal.’ ‘And yet I question, sir, whether, in all your experience, you have ever listened to a more mysterious and inexplicable chain of events than those which have happened in my own family.’ ‘You fill me with interest,’ said Holmes. ‘Pray give us the essential facts from the commencement, and I can afterward question you as to those details which seem to me to be most important.’ The young man pulled his chair up and pushed his wet feet out towards the blaze. ‘My name,’ said he, ‘is John Openshaw, but my own affairs have, as far as I can understand, little to do with this awful business. It is a hereditary matter; so, in order to give you an idea of the facts, I must go back to the commencement of the affair. ‘You must know that my grandfather had two sons – my uncle Elias and my father Joseph. My father had a small factory at Coventry, which he enlarged at the time of the invention of bicycling. He was a patentee of the Openshaw unbreakable tire, and his business met with such success that he was able to sell it and to retire upon a handsome competence. ‘My uncle Elias emigrated to America when he was a young man and became a planter in Florida, where he was reported to have done very well. At the time of the war he fought in Jackson's army, and afterwards under Hood, where he rose to be a colonel. When Lee laid down his arms my uncle returned to his plantation, where he remained for three or four years. About 1869 or 1870 he came back to Europe and took a small estate in Sussex, near Horsham. He had made a very considerable fortune in the States, and his reason for leaving them was his aversion to the negroes, and his dislike of the Republican policy in extending the franchise to them. He was a singular man, fierce and quick-tempered, very foul-mouthed when he was angry, and of a most retiring disposition. During all the years that he lived at Horsham, I doubt if ever he set foot in the town. He had a garden and two or three fields round his house, and there he would take his exercise, though very often for weeks on end h would never leave his room. He drank a great deal of brandy and smoked very heavily, but he would see no society and did not want any friends, not even his own brother.\"\n",
    "\n",
    "orange_8 = \"‘He didn't mind me; in fact, he took a fancy to me, for at the time when he saw me first I was a youngster of twelve or so. This would be in the year 1878, after he had been eight or nine years in England. He begged my father to let me live with him and he was very kind to me in his way. When he was sober he used to be fond of playing backgammon and draughts with me, and he would make me his representative both with the servants and with the tradespeople, so that by the time that I was sixteen I was quite master of the house. I kept all the keys and could go where I liked and do what I liked, so long as I did not disturb him in his privacy. There was one singular exception, however, for he had a single room, a lumber-room up among the attics, which was invariably locked, and which he would never permit either me or anyone else to enter. With a boy's curiosity I have peeped through the keyhole, but I was never able to see more than such a collection of old trunks and bundles as would be expected in such a room.\"\n",
    "\n",
    "orange_9 = \"‘One day -- it was in March, 1883 -- a letter with a foreign stamp lay upon the table in front of the colonel's plate. It was not a common thing for him to receive letters, for his bills were all paid in ready money, and he had no friends of any sort. 'From India!' said he as he took it up, 'Pondicherry postmark! What can this be?' Opening it hurriedly, out there jumped five little dried orange pips, which pattered down upon his plate. I began to laugh at this, but the laugh was struck from my lips at the sight of his face. His lip had fallen, his eyes were protruding, his skin the colour of putty, and he glared at the envelope which he still held in his trembling hand, 'K. K. K.!' he shrieked, and then, 'My God, my God, my sins have overtaken me!' ‘ 'What is it, uncle?' I cried. ‘ 'Death,' said he, and rising from the table he retired to his room, leaving me palpitating with horror. I took up the envelope and saw scrawled in red ink upon the inner flap, just above the gum, the letter K three times repeated. There was nothing else save the five dried pips. What could be the reason of his overpowering terror? I left the breakfast-table, and as I ascended the stair I met him coming down with an old rusty key, which must have belonged to the attic, in one hand, and a small brass box, like a cashbox, in the other.\"\n",
    "\n",
    "orange_10 = \"‘ 'They may do what they like, but I'll checkmate them still,' said he with an oath. 'Tell Mary that I shall want a fire in my room today, and send down to Fordham, the Horsham lawyer.' ‘I did as he ordered, and when the lawyer arrived I was asked to step up to the room. The fire was burning brightly, and in the grate there was a mass of black, fluffy ashes, as of burned paper, while the brass box stood open and empty beside it. As I glanced at the box I noticed, with a start, that upon the lid was printed the treble K which I had read in the morning upon the envelope.\"\n",
    "\n",
    "orange_11 = \"‘ 'I wish you, John,' said my uncle, 'to witness my will. I leave my estate, with all its advantages and all its disadvantages, to my brother, your father, whence it will, no doubt, descend to you. If you can enjoy it in peace, well and good! If you find you cannot, take my advice, my boy, and leave it to your deadliest enemy. I am sorry to give you such a two-edged thing, but I can't say what turn things are going to take. Kindly sign the paper where Mr. Fordham shows you.' ‘I signed the paper as directed, and the lawyer took it away with him. The singular incident made, as you may think, the deepest impression upon me, and I pondered over it and turned it every way in my mind without being able to make anything of it.\"\n",
    "\n",
    "orange_12 = \"Yet I could not shake off the vague feeling of dread which it left behind, though the sensation grew less keen as the weeks passed and nothing happened to disturb the usual routine of our lives. I could see a change in my uncle, however. He drank more than ever, and he was less inclined for any sort of society. Most of his time he would spend in his room, with the door locked upon the inside, but sometimes he would emerge in a sort of drunken frenzy and would burst out of the house and tear about the garden with a revolver in his hand, screaming out that he was afraid of no man, and that he was not to be cooped up, like a sheep in a pen, by man or devil. When these hot fits were over however, he would rush tumultuously in at the door and lock and bar it behind him, like a man who can brazen it out no longer against the terror which lies at the roots of his soul. At such times I have seen his face, even on a cold day, glisten with moisture, as though it were new raised from a basin.\"\n",
    "\n",
    "orange_13 = \"‘Well, to come to an end of the matter, Mr. Holmes, and not to abuse your patience, there came a night when he made one of those drunken sallies from which he never came back. We found him, when we went to search for him, face downward in a little green-scummed pool, which lay at the foot of the garden. There was no sign of any violence, and the water was but two feet deep, so that the jury, having regard to his known eccentricity, brought in a verdict of 'suicide.' But I, who knew how he winced from the very thought of death, had much ado to persuade myself that he had gone out of his way to meet it. The matter passed, however, and my father entered into possession of the estate, and of some 14,000 pounds, which lay to his credit at the bank.’\"\n",
    "\n",
    "orange_14 = \"‘One moment,’ Holmes interposed, ‘your statement is, I foresee, one of the most remarkable to which I have ever listened. Let me have the date of the reception by your uncle of the letter, and the date of his supposed suicide.’ ‘The letter arrived on March 10, 1883. His death was seven weeks later, upon the night of May 2d.’ ‘Thank you. Pray proceed.’ ‘When my father took over the Horsham property, he, at my request, made a careful examination of the attic, which had been always locked up. We found the brass box there, although its contents had been destroyed. On the inside of the cover was a paper label, with the initials of K. K. K. repeated upon it, and 'Letters, memoranda, receipts, and a register' written beneath.\"\n",
    "\n",
    "orange_15 = \"These, we presume, indicated the nature of the papers which had been destroyed by Colonel Openshaw. For the rest, there was nothing of much importance in the attic save a great many scattered papers and notebooks bearing upon my uncle's life in America. Some of them were of the war time and showed that he had done his duty well and had borne the repute of a brave soldier. Others were of a date during the reconstruction of the Southern states, and were mostly concerned with politics, for he had evidently taken a strong part in opposing the carpetbag politicians who had been sent down from the North.\"\n",
    "\n",
    "orange_16 = \"‘Well, it was the beginning of '84 when my father came to live at Horsham, and all went as well as possible with us until the January of '85. On the fourth day after the new year I heard my father give a sharp cry of surprise as we sat together at the breakfast-table. There he was, sitting with a newly opened envelope in one hand and five dried orange pips in the outstretched palm of the other one. He had always laughed at what he called my cock-and-bull story about the colonel, but he looked very scared and puzzled now that the same thing had come upon himself.\"\n",
    "\n",
    "orange_17 = \"‘ 'Why, what on earth does this mean, John?' he stammered. ‘My heart had turned to lead. 'It is K. K. K.,' said I. ‘He looked inside the envelope. 'So it is,' he cried. 'Here are the very letters. But what is this written above them?' ‘ 'Put the papers on the sundial,' I read, peeping over his shoulder. ‘ 'What papers? What sundial?' he asked. ‘ 'The sundial in the garden. There is no other,' said I; 'but the papers must be those that are destroyed.' ‘ 'Pooh!' said he, gripping hard at his courage. 'We are in a civilized land here, and we can't have tomfoolery of this kind. Where does the thing come from?' ‘ 'From Dundee,' I answered, glancing at the postmark. ‘ 'Some preposterous practical joke,' said he. 'What have I to do with sundials and papers? I shall take no notice of such nonsense.' ‘ 'I should certainly speak to the police,' I said. ‘ 'And be laughed at for my pains. Nothing of the sort.' ‘ 'Then let me do so?' ‘ 'No, I forbid you. I won't have a fuss made about such nonsense.' ‘It was in vain to argue with him, for he was a very obstinate man. I went about, however, with a heart which was full of forebodings. ‘On the third day after the coming of the letter my father went from home to visit an old friend of his, Major Freebody, who is in command of one of the forts upon Ports down Hill. I was glad that he should go, for it seemed to me that he was farther from danger when he was away from home. In that, however, I was in error. Upon the second day of his absence I received a telegram from the major, imploring me to come at once. My father had fallen over one of the deep chalk-pits which abound in the neighbourhood, and was lying senseless, with a shattered skull. I hurried to him, but he passed away without having ever recovered his consciousness. He had, as it appears, been returning from Fareham in the twilight, and as the country was unknown to him, and the chalk-pit unfenced, the jury had no hesitation in bringing in a verdict of 'death from accidental causes.' Carefully as I examined every fact connected with his death, I was unable to find anything which could suggest the idea of murder. There were no signs of violence, no footmarks, no robbery, no record of strangers having been seen upon the roads. And yet I need not tell you that my mind was far from at ease, and that I was well-nigh certain that some foul plot had been woven round him. ‘In this sinister way I came into my inheritance. You will ask me why I did not dispose of it? I answer, because I was well convinced that our troubles were in some way dependent upon an incident in my uncle's life, and that the danger would be as pressing in one house as in another.\"\n",
    "\n",
    "orange_18 = \"‘It was in January, '85, that my poor father met his end, and two years and eight months have elapsed since then. During that time I have lived happily at Horsham, and I had begun to hope that this curse had passed way from the family, and that it had ended with the last generation. I had begun to take comfort too soon, however; yesterday morning the blow fell in the very shape in which it had come upon my father.’ The young man took from his waistcoat a crumpled envelope, and turning to the table he shook out upon it five little dried orange pips. ‘This is the envelope,’ he continued. ‘The postmark is London -- eastern division. Within are the very words which were upon my father's last message: 'K. K. K.'; and then 'Put the papers on the sundial.' ‘ ‘What have you done?'' asked Holmes. ‘Nothing.’ ‘Nothing?’ ‘To tell the truth’ -- he sank his face into his thin, white hands -- ‘I have felt helpless. I have felt like one of those poor rabbits when the snake is writhing towards it. I seem to be in the grasp of some resistless, inexorable evil, which no foresight and no precautions can guard against.’\"\n",
    "\n",
    "orange_19 = \"‘It is really two days since you had the letter. We should have acted before this. You have no further evidence, I suppose, than that which you have placed before us -- no suggestive detail which might help us?’ ‘There is one thing,’ said John Openshaw. He rummaged in his coat pocket, and, drawing out a piece of discoloured, blue tinted paper, he laid it out upon the table. ‘I have some remembrance,’ said he, ‘that on the day when my uncle burned the papers I observed that the small, unburned margins which lay amid the ashes were of this particular colour. I found this single sheet upon the floor of his room, and I am inclined to think that it may be one of the papers which has, perhaps, fluttered out from among the others, and in that way has escaped destruction.\"\n",
    "\n",
    "orange_20 = \"Beyond the mention of pips, I do not see that it helps us much. I think myself that it is a page from some private diary. The writing is undoubtedly my uncle's.’ Holmes moved the lamp, and we both bent over the sheet of paper, which showed by its ragged edge that it had indeed been torn from a book. It was headed, ‘March, 1869,’ and beneath were the following enigmatical notices: 4th. Hudson came. Same old platform. 7th. Set the pips on McCauley, Paramore, and John Swain, of St. Augustine. 9th. McCauley cleared. 1Oth. John Swain cleared. 12th. Visited Paramore. All well.\"\n",
    "\n",
    "orange_21 = \"‘Thank you!’ said Holmes, folding up the paper and returning it to our visitor. ‘And now you must on no account lose another instant. We cannot spare time even to discuss what you have told me. You must get home instantly and act.’ ‘What shall I do?’ ‘There is but one thing to do. It must be done at once. You must put this piece of paper which you have shown us into the brass box which you have described. You must also put in a note to say that all the other papers were burned by your uncle, and that this is the only one which remains. You must assert that I such words as will carry conviction with them. Having done this, you must at once put the box out upon the sundial, as directed. Do you understand?’ ‘Entirely.’ ‘Do not think of revenge, or anything of the sort, at present. I think that we may gain that by means of the law; but we have our web to weave, while theirs is already woven. The first consideration is to remove the pressing danger which threatens you. The second is to clear up the mystery and to punish the guilty parties.’\"\n",
    "\n",
    "orange_22 = \"‘I thank you,’ said the young man, rising and pulling on his overcoat. ‘You have given me fresh life and hope. I shall certainly do as you advise.’ ‘Do not lose an instant. And, above all, take care of yourself in the meanwhile, for I do not think that there can be a doubt that you are threatened by a very real and imminent danger. How do you go back? ‘By train from Waterloo.’ ‘It is not yet nine. The streets will be crowded, so l trust that you may be in safety. And yet you cannot guard yourself too closely.’ ‘I am armed.’ ‘That is well. Tomorrow I shall set to work upon your case.’ ‘I shall see you at Horsham, then?’ ‘No, your secret lies in London. It is there that I shall seek it.’ ‘Then I shall call upon you in a day, or in two days, with news as to the box and the papers. I shall take your advice in every particular.’ He shook hands with us and took his leave.\"\n",
    "\n",
    "orange_23 = \"Outside the wind still screamed and the rain splashed and pattered against the windows. This strange, wild story seemed to have come to us from amid the mad elements -- blown in upon us like a sheet of seaweed in a gale -- and now to have been reabsorbed by them once more. Sherlock Holmes sat for some time in silence, with his head sunk forward and his eyes bent upon the red glow of the fire. Then he lit his pipe, and leaning back in his chair he watched the blue smoke-rings as they chased each other up to the ceiling\"\n",
    "\n",
    "orange_24 = \"‘I think, Watson,’ he remarked at last, ‘that of all our cases we have had none more fantastic than this.’ ‘Save, perhaps, the Sign of Four.’ ‘Well, yes. Save, perhaps, that. And yet this John Openshaw seems to me to be walking amid even greater perils than did the Sholtos.’ ‘But have you,’ I asked, ‘formed any definite conception as to what these perils are?’ ‘There can be no question as to their nature,’ he answered. ‘Then what are they? Who is this K. K. K., and why does he pursue this unhappy family?’\"\n",
    "\n",
    "orange_25 = \"Sherlock Holmes closed his eyes and placed his elbows upon the arms of his chair, with his finger-tips together. ‘The ideal reasoner,’ he remarked, ‘would, when he had once been shown a single fact in all its bearings, deduce from it not only all the chain of events which led up to it but also all the results which would follow from it. As Cuvier could correctly describe a whole animal by the contemplation of a single bone, so the observer who has thoroughly understood one link in a series of incidents should be able to accurately state all the other ones, both before and after. We have not yet grasped the results which the reason alone can attain to. Problems may be solved in the study which have baffled all those who have sought a solution by the aid of their senses. To carry the art, however, to its highest pitch, it is necessary that the reasoner should be able to utilize all the facts which have come to his knowledge; and this in itself implies, as you will readily see, a possession of all knowledge, which, even in these days of free education and encyclopaedias, is a somewhat rare accomplishment. It is not so impossible, however, that a man should possess all knowledge which is likely to be useful to him in his work, and this I have endeavoured in my case to do. If I remember rightly, you on one occasion, in the early days of our friendship, defined my limits in a very precise fashion.’\"\n",
    "\n",
    "orange_26 = \"‘Yes,’ I answered, laughing. ‘It was a singular document. Philosophy, astronomy, and politics were marked at zero, I remember. Botany variable, geology profound as regards the mud-stains from any region within fifty miles of town, chemistry eccentric, anatomy unsystematic, sensational literature and crime records unique, violin-player, boxer, swordsman, lawyer, and self-poisoner by cocaine and tobacco. Those, I think, were the main points of my analysis.’\"\n",
    "\n",
    "orange_27 = \"Holmes grinned at the last item. ‘Well,’ he said, ‘I say now, as I said then, that a man should keep his little brain-attic stocked with all the furniture that he is likely to use, and the rest he can put away in the lumber-room of his library, where he can get it if he wants it. Now, for such a case as the one which has been submitted to us tonight, we need certainly to muster all our resources. Kindly hand me down the letter K of the American Encyclopaedia which stands upon the shelf beside you. Thank you. Now let us consider the situation and see what may be deduced from it. In the first place, we may start with a strong presumption that Colonel Openshaw had some very strong reason for leaving America. Men at his time of life do not change all their habits and exchange willingly the charming climate of Florida for the lonely life of an English provincial town. His extreme love of solitude in England suggests the idea that he was in fear of someone or something, so we may assume as a working hypothesis that it was fear of someone or something which drove him from America. As to what it was he feared, we can only deduce that by considering the formidable letters which were received by himself and his successors. Did you remark the postmarks of those letters?’ ‘The first was from Pondicherry, the second from Dundee, and the third from London.’ ‘From East London. What do you deduce from that?’ ‘They are all seaports. That the writer was on board of a ship.’ ‘Excellent. We have already a clue. There can be no doubt that the probability -- the strong probability -- is that the writer was on board of a ship. And now let us consider another point. In the case of Pondicherry, seven weeks elapsed between the threat and its fulfilment, in Dundee it was only some three or four days. Does that suggest anything?’ ‘A greater distance to travel.’ ‘But the letter had also a greater distance to come.’\"\n",
    "\n",
    "orange_28 = \"‘Then I do not see the point.’ ‘There is at least a presumption that the vessel in which the man or men are is a sailing-ship. It looks as if they always send their singular warning or token before them when starting upon their mission. You see how quickly the deed followed the sign when it came from Dundee. If they had come from Pondicherry in a steamer they would have arrived almost as soon as their letter. But, as a matter of fact, seven weeks elapsed. I think that those seven weeks represented the difference between the mailboat which brought the letter and the sailing vessel which brought the writer.’ ‘It is possible.’ ‘More than that. It is probable. And now you see the deadly urgency of this new case, and why I urged young Openshaw to caution. The blow has always fallen at the end of the time which it would take the senders to travel the distance. But this one comes from London, and therefore we cannot count upon delay.’ ‘Good God!’ I cried. ‘What can it mean, this relentless persecution?’ ‘The papers which Openshaw carried are obviously of vital importance to the person or persons in the sailing-ship. I think that it is quite clear that there must be more than one of them. A single man could not have carried out two deaths in such a way as to deceive a coroner's jury. There must have been several in it, and they must have been men of resource and determination. Their papers they mean to have, be the holder of them who it may. In this way you see K. K. K. ceases to be the initials of an individual and becomes the badge of a society.’ ‘But of what society?’ ‘Have you never --’ said Sherlock Holmes, bending forward and sinking his voice --’have you never heard of the Ku Klux Klan?’ ‘I never have.’\"\n",
    "\n",
    "orange_29 = \"Holmes turned over the leaves of the book upon his knee. ‘Here it is,’ said he presently: ‘Ku Klux Klan. A name derived from the fanciful resemblance to the sound produced by cocking a rifle. This terrible secret society was formed by some ex-Confederate soldiers in the Southern states after the Civil War, and it rapidly formed local branches in different parts of the country, notably in Tennessee, Louisiana, the Carolinas, Georgia, and Florida. Its power was used for political purposes, principally for the terrorizing of the negro voters and the murdering and driving from the country of those who were opposed to its views. Its outrages were usually preceded by a warning sent to the marked man in some fantastic but generally recognized shape -- a sprig of oak-leaves in some parts, melon seeds or orange pips in others. On receiving this the victim might either openly abjure his former ways, or might fly from the country. If he braved the matter out, death would unfailingly come upon him, and usually in some strange and unforeseen manner. So perfect was the organization of the society, and so systematic its methods, that there is hardly a case upon record where any man succeeded in braving it with impunity, or in which any of its outrages were traced home to the perpetrators. For some years the organization flourished in spite of the efforts of the United States government and of the better classes of the community in the South. Eventually, in the year 1869, the movement rather suddenly collapsed, although there have been sporadic outbreaks of the same sort since that date.\"\n",
    "\n",
    "orange_30 = \"‘You will observe,’ said Holmes, laying down the volume, ‘that the sudden breaking up of the society was coincident with the disappearance of Openshaw from America with their papers. It may well have been cause and effect. It is no wonder that he and his family have some of the more implacable spirits upon their track. You can understand that this register and diary may implicate some of the first men in the South, and that there may be many who will not sleep easy at night until it is recovered.’  ‘Then the page we have seen --’ ‘Is such as we might expect. It ran, if I remember right, 'sent the pips to A, B, and C' -- that is, sent the society's warning to them. Then there are successive entries that A and B cleared, or left the country, and finally that C was visited, with, I fear, a sinister result for C. Well, I think, Doctor, that we may let some light into this dark place, and I believe that the only chance young Openshaw has in the meantime is to do what I have told him. There is nothing more to be said or to be done tonight, so hand me over my violin and let us try to forget for half an hour the miserable weather and the still more miserable ways of our fellowmen.’\"\n",
    "\n",
    "orange_31 = \" It had cleared in the morning, and the sun was shining with a subdued brightness through the dim veil which hangs over the great city. Sherlock Holmes was already at breakfast when I came down. ‘You will excuse me for not waiting for you,’ said he; ‘I have, I foresee, a very busy day before me in looking into this case of young Openshaw's.’ ‘What steps will you take?’ I asked. ‘It will very much depend upon the results of my first inquiries. I may have to go down to Horsham, after all.’ ‘You will not go there first?’ ‘No, I shall commence with the City. Just ring the bell and the maid will bring up your coffee.’ As I waited, I lifted the unopened newspaper from the table and glanced my eye over it. It rested upon a heading which sent a chill to my heart.\"\n",
    "\n",
    "orange_32 = \"‘Holmes,’ I cried, ‘you are too late.’ ‘Ah!’ said he, laying down his cup, ‘I feared as much. How was it done?’ He spoke calmly, but I could see that he was deeply moved. ‘My eye caught the name of Openshaw, and the heading 'Tragedy Near Waterloo Bridge.' Here is the account:  ‘Between nine and ten last night Police-Constable Cook, of the H Division, on duty near Waterloo Bridge, heard a cry for help and a splash in the water. The night, however, was extremely dark and stormy, so that, in spite of the help of several passers-by, it was quite impossible to affect a rescue. The alarm, however, was given, and, by the aid of the water-police, the body was eventually recovered. It proved to be that of a young gentleman whose name, as it appears from an envelope which was found in his pocket, was John Openshaw, and whose residence is near Horsham. It is conjectured that he may have been hurrying down to catch the last train from Waterloo Station, and that in his haste and the extreme darkness he missed his path and walked over the edge of one of the small landing-places for river steamboats. The body exhibited no traces of violence,  and there can be no doubt that the deceased had been the victim of an unfortunate accident, which should have the effect of calling the attention of the authorities to the condition of the riverside landing-stages.’\"\n",
    "\n",
    "orange_33 = \"We sat in silence for some minutes, Holmes more depressed and shaken than I had ever seen him. ‘That hurts my pride, Watson,’ he said at last. ‘It is a petty feeling, no doubt, but it hurts my pride. It becomes a personal matter with me now, and, if God sends me health, I shall set my hand upon this gang. That he should come to me for help, and that I should send him away to his death --!’ He sprang from his chair and paced about the room in uncontrollable agitation, with a flush upon his sallow cheeks and a nervous clasping and unclasping of his long thin hands.\"\n",
    "\n",
    "orange_34 = \"‘They must be cunning devils,’ he exclaimed at last. ‘How could they have decoyed him down there? The Embankment is not on the direct line to the station. The bridge, no doubt, was too crowded, even on such a night, for their purpose. Well, Watson, we shall see who will win in the long run. I am going out now!’ ‘To the police?’ ‘No; I shall be my own police. When I have spun the web they may take the flies, but not before.’ All day I was engaged in my professional work, and it was late in the evening before I returned to Baker Street. Sherlock Holmes had not come back yet. It was nearly ten o'clock before he entered, looking pale and worn. He walked up to the sideboard, and tearing a piece from the loaf he devoured it voraciously, washing it down with a long draught of water. ‘You are hungry,’ I remarked. ‘Starving. It had escaped my memory. I have had nothing since breakfast.’ ‘Nothing?’ ‘Not a bite. I had no time to think of it.’ ‘And how have you succeeded?’ ‘Well.’ ‘You have a clue?’ ‘I have them in the hollow of my hand. Young Openshaw shall not long remain unavenged. Why, Watson, let us put their own devilish trademark upon them. It is well thought of!’ ‘What do you mean?’ He took an orange from the cupboard, and tearing it to pieces he squeezed out the pips upon the table. Of these he took five and thrust them into an envelope. On the inside of the flap he wrote ‘S. H. for J. 0.’ Then he sealed it and addressed it to ‘Captain James Calhoun, Bark Lone Star, Savannah, Georgia.’ ‘That will await him when he enters port,’ said he, chuckling. ‘It may give him a sleepless night. He will find it as sure a precursor of his fate as Openshaw did before him.’ ‘And who is this Captain Calhoun?’ ‘The leader of the gang. I shall have the others, but he first.’ ‘How did you trace it, then?’ He took a large sheet of paper from his pocket, all covered with dates and names. ‘I have spent the whole day,’ said he, ‘over Lloyd's registers and files of the old papers, following the future career of every vessel which touched at Pondicherry in January and February in '83. There were thirty-six ships of fair tonnage which were reported there during those months. Of these, one, the Lone Star, instantly attracted my attention, since, although it was reported as having cleared from London, the name is that which is given to one of the states of the Union.’\"\n",
    "\n",
    "orange_35 = \"‘Texas, I think.’ ‘I was not and am not sure which; but I knew that the ship must have an American origin.’ ‘What then?’ ‘I searched the Dundee records, and when I found that the bark Lone Star was there in January, '85, my suspicion became a certainty. I then inquired as to the vessels which lay at present in the port of London.’ ‘Yes?’ ‘The Lone Star had arrived here last week. I went down to the Albert Dock and found that she had been taken down the river by the early tide this morning, homeward bound to Savannah. I wired to Gravesend and learned that she had passed some time ago, and as the wind is easterly I have no doubt that she is now past the Goodwins and not very far from the Isle of Wight.’ ‘What will you do, then?’ ‘Oh, I have my hand upon him. He and the two mates, are as I learn, the only native-born Americans in the ship. The other are Finns and Germans. I know, also, that they were all three away from the ship last night. I had it from the stevedore who has been loading their cargo. By the time that their sailing-ship reaches Savannah the mail-boat will have carried this letter, and the cable will have informed the police of Savannah that these three gentlemen are badly wanted here upon a charge of murder.’\"\n",
    "\n",
    "orange_36 = \"There is ever a flaw, however, in the best laid of human plans, and the murderers of John Openshaw were never to receive the orange pips which would show them that another, as cunning and as resolute as themselves, was upon their track. Very long and very severe were the equinoctial gales that year. We waited long for news of the Lone Star of Savannah, but none ever reached us. We did at last hear that somewhere far out in the Atlantic a shattered stern-post of the boat was seen swinging in the trough of a wave, with the letters ‘L. S.’ carved upon it, and that is all which we shall ever know of the fate of the Lone Star.\"\n"
   ]
  },
  {
   "cell_type": "code",
   "execution_count": 19,
   "metadata": {},
   "outputs": [
    {
     "data": {
      "text/plain": [
       "[\"When I glance over my notes and records of the Sherlock Holmes cases between the years '82 and '90, I am faced by so many which present strange and interesting features that it is no easy matter to know which to choose and which to leave\",\n",
       " ' Some, however, have already gained publicity through the papers, and others have not offered a field for those peculiar qualities which my friend possessed in so high a degree, and which it is the object of these papers to illustrate',\n",
       " ' Some, too, have baffled his analytical skill, and would be, as narratives, beginnings without an ending, while others have been but partially cleared up, and have their explanations founded rather upon conjecture and surmise than on that absolute logical proof which was so dear to him',\n",
       " ' There is, however, one of these last which was so remarkable in its details and so startling in its results that I am tempted to give some account of it in spite of the fact that there are points in connection with it which never have been, and probably never will be, entirely cleared up',\n",
       " '']"
      ]
     },
     "execution_count": 19,
     "metadata": {},
     "output_type": "execute_result"
    }
   ],
   "source": [
    "stc_split_1 = orange_1.split('.')\n",
    "stc_split_1"
   ]
  },
  {
   "cell_type": "code",
   "execution_count": 20,
   "metadata": {},
   "outputs": [
    {
     "data": {
      "text/plain": [
       "[\"The year '87 furnished us with a long series of cases of greater or less interest, of which I retain the records\",\n",
       " ' Among my headings under this one twelve months I find an account of the adventure of the Paradol Chamber, of the Amateur Mendicant Society, who held a luxurious club in the lower vault of a furniture warehouse, of the facts connected with the loss of the British bark Sophy Anderson, of the singular adventures of the Grice Patersons in the island of Uffa, and finally of the Camberwell poisoning case',\n",
       " \" In the latter, as may be remembered, Sherlock Holmes was able, by winding up the dead man's watch, to prove that it had been wound up two hours before, and that therefore the deceased had gone to bed within that time -- a deduction which was of the greatest importance in clearing up the case\",\n",
       " ' All these I may sketch out at some future date, but none of them present such singular features as the strange train of circumstances which I have now taken up my pen to describe',\n",
       " '']"
      ]
     },
     "execution_count": 20,
     "metadata": {},
     "output_type": "execute_result"
    }
   ],
   "source": [
    "stc_split_2 = orange_2.split('.')\n",
    "stc_split_2"
   ]
  },
  {
   "cell_type": "code",
   "execution_count": 21,
   "metadata": {},
   "outputs": [
    {
     "data": {
      "text/plain": [
       "['‘It was in the latter days of September, and the equinoctial gales had set in with exceptional violence',\n",
       " ' All day the wind had screamed and the rain had beaten against the windows, so that even here in the heart of great, handmade London we were forced to raise our minds for the instant from the routine of life and to recognize the presence of those great elemental forces which shriek at mankind through the bars of his civilization, like untamed beasts in a cage',\n",
       " ' As evening drew in, the storm grew higher and louder, and the wind cried and sobbed like a child in the chimney',\n",
       " \" Sherlock Holmes sat moodily at one side of the fireplace cross-indexing his records of crime, while I at the other was deep in one of Clark Russell's fine sea-stories until the howl of the gale from without seemed to blend with the text, and the splash of the rain to lengthen out into the long swash of the sea waves\",\n",
       " \" My wife was on a visit to her mother's, and for a few days I was a dweller once more in my old quarters at Baker Street\",\n",
       " '’']"
      ]
     },
     "execution_count": 21,
     "metadata": {},
     "output_type": "execute_result"
    }
   ],
   "source": [
    "stc_split_3 = orange_3.split('.')\n",
    "stc_split_3"
   ]
  },
  {
   "cell_type": "code",
   "execution_count": 22,
   "metadata": {},
   "outputs": [
    {
     "data": {
      "text/plain": [
       "['‘Why,’ said I, glancing up at my companion, ‘that was surely the bell',\n",
       " ' Who could come tonight? Some friend of yours, perhaps?’ ‘Except yourself I have none,’ he answered',\n",
       " ' ‘I do not encourage visitors',\n",
       " '’ ‘A client, then?’ ‘If so, it is a serious case',\n",
       " ' Nothing less would bring a man out on such a day and at such an hour',\n",
       " ' But I take it that it is more likely to be some crony of the landladies',\n",
       " '’']"
      ]
     },
     "execution_count": 22,
     "metadata": {},
     "output_type": "execute_result"
    }
   ],
   "source": [
    "stc_split_4 = orange_4.split('.')\n",
    "stc_split_4"
   ]
  },
  {
   "cell_type": "code",
   "execution_count": 23,
   "metadata": {},
   "outputs": [
    {
     "data": {
      "text/plain": [
       "['Sherlock Holmes was wrong in his conjecture, however, for there came a step in the passage and a tapping at the door',\n",
       " ' He stretched out his long arm to turn the lamp away from himself and towards the vacant chair upon which a newcomer must sit',\n",
       " ' ‘Come in!’ said he',\n",
       " '']"
      ]
     },
     "execution_count": 23,
     "metadata": {},
     "output_type": "execute_result"
    }
   ],
   "source": [
    "stc_split_5 = orange_5.split('.')\n",
    "stc_split_5"
   ]
  },
  {
   "cell_type": "code",
   "execution_count": 24,
   "metadata": {},
   "outputs": [
    {
     "data": {
      "text/plain": [
       "['The man who entered was young, some two-and-twenty at the outside, well-groomed and trimly clad, with something of refinement and delicacy in his bearing',\n",
       " ' The streaming umbrella which he held in his hand, and his long shining waterproof told of the fierce weather through which he had come',\n",
       " ' He looked about him anxiously in the glare of the lamp, and I could see that his face was pale and his eyes heavy, like those of a man who is weighed down with some great anxiety',\n",
       " '']"
      ]
     },
     "execution_count": 24,
     "metadata": {},
     "output_type": "execute_result"
    }
   ],
   "source": [
    "stc_split_6 = orange_6.split('.')\n",
    "stc_split_6"
   ]
  },
  {
   "cell_type": "code",
   "execution_count": 25,
   "metadata": {},
   "outputs": [
    {
     "data": {
      "text/plain": [
       "['‘l owe you an apology,’ he said, raising his golden pince-nez to his eyes',\n",
       " ' ‘I trust that I am not intruding',\n",
       " ' I fear that I have brought some traces of the storm and rain into your snug chamber',\n",
       " '’ ‘Give me your coat and umbrella,’ said Holmes',\n",
       " ' ‘They may rest here on the hook and will be dry presently',\n",
       " ' You have come up from the south-west, I see',\n",
       " '’ ‘Yes, from Horsham',\n",
       " '’ ‘That clay and chalk mixture which I see upon your toe caps is quite distinctive',\n",
       " '’ ‘I have come for advice',\n",
       " '’ ‘That is easily got',\n",
       " '’ ‘And help',\n",
       " '’ ‘That is not always so easy',\n",
       " '’ ‘I have heard of you, Mr',\n",
       " ' Holmes',\n",
       " ' I heard from Major Prendergast how you saved him in the Tankerville Club scandal',\n",
       " '’ ‘Ah, of course',\n",
       " ' He was wrongfully accused of cheating at cards',\n",
       " '’ ‘He said that you could solve anything',\n",
       " '’ ‘He said too much',\n",
       " '’ ‘That you are never beaten',\n",
       " '’ ‘I have been beaten four times - three times by men, and once by a woman',\n",
       " '’ ‘But what is that compared with the number of your successes?’ ‘It is true that I have been generally successful',\n",
       " '’ ‘Then you may be so with me',\n",
       " '’ ‘I beg that you will draw your chair up to the fire and favour me with some details as to your case',\n",
       " '’ ‘It is no ordinary one',\n",
       " '’ ‘None of those which come to me are',\n",
       " ' I am the last court of appeal',\n",
       " '’ ‘And yet I question, sir, whether, in all your experience, you have ever listened to a more mysterious and inexplicable chain of events than those which have happened in my own family',\n",
       " '’ ‘You fill me with interest,’ said Holmes',\n",
       " ' ‘Pray give us the essential facts from the commencement, and I can afterward question you as to those details which seem to me to be most important',\n",
       " '’ The young man pulled his chair up and pushed his wet feet out towards the blaze',\n",
       " ' ‘My name,’ said he, ‘is John Openshaw, but my own affairs have, as far as I can understand, little to do with this awful business',\n",
       " ' It is a hereditary matter; so, in order to give you an idea of the facts, I must go back to the commencement of the affair',\n",
       " ' ‘You must know that my grandfather had two sons – my uncle Elias and my father Joseph',\n",
       " ' My father had a small factory at Coventry, which he enlarged at the time of the invention of bicycling',\n",
       " ' He was a patentee of the Openshaw unbreakable tire, and his business met with such success that he was able to sell it and to retire upon a handsome competence',\n",
       " ' ‘My uncle Elias emigrated to America when he was a young man and became a planter in Florida, where he was reported to have done very well',\n",
       " \" At the time of the war he fought in Jackson's army, and afterwards under Hood, where he rose to be a colonel\",\n",
       " ' When Lee laid down his arms my uncle returned to his plantation, where he remained for three or four years',\n",
       " ' About 1869 or 1870 he came back to Europe and took a small estate in Sussex, near Horsham',\n",
       " ' He had made a very considerable fortune in the States, and his reason for leaving them was his aversion to the negroes, and his dislike of the Republican policy in extending the franchise to them',\n",
       " ' He was a singular man, fierce and quick-tempered, very foul-mouthed when he was angry, and of a most retiring disposition',\n",
       " ' During all the years that he lived at Horsham, I doubt if ever he set foot in the town',\n",
       " ' He had a garden and two or three fields round his house, and there he would take his exercise, though very often for weeks on end h would never leave his room',\n",
       " ' He drank a great deal of brandy and smoked very heavily, but he would see no society and did not want any friends, not even his own brother',\n",
       " '']"
      ]
     },
     "execution_count": 25,
     "metadata": {},
     "output_type": "execute_result"
    }
   ],
   "source": [
    "stc_split_7 = orange_7.split('.')\n",
    "stc_split_7"
   ]
  },
  {
   "cell_type": "code",
   "execution_count": 26,
   "metadata": {},
   "outputs": [
    {
     "data": {
      "text/plain": [
       "[\"‘He didn't mind me; in fact, he took a fancy to me, for at the time when he saw me first I was a youngster of twelve or so\",\n",
       " ' This would be in the year 1878, after he had been eight or nine years in England',\n",
       " ' He begged my father to let me live with him and he was very kind to me in his way',\n",
       " ' When he was sober he used to be fond of playing backgammon and draughts with me, and he would make me his representative both with the servants and with the tradespeople, so that by the time that I was sixteen I was quite master of the house',\n",
       " ' I kept all the keys and could go where I liked and do what I liked, so long as I did not disturb him in his privacy',\n",
       " ' There was one singular exception, however, for he had a single room, a lumber-room up among the attics, which was invariably locked, and which he would never permit either me or anyone else to enter',\n",
       " \" With a boy's curiosity I have peeped through the keyhole, but I was never able to see more than such a collection of old trunks and bundles as would be expected in such a room\",\n",
       " '']"
      ]
     },
     "execution_count": 26,
     "metadata": {},
     "output_type": "execute_result"
    }
   ],
   "source": [
    "stc_split_8 = orange_8.split('.')\n",
    "stc_split_8"
   ]
  },
  {
   "cell_type": "code",
   "execution_count": 27,
   "metadata": {},
   "outputs": [
    {
     "data": {
      "text/plain": [
       "[\"‘One day -- it was in March, 1883 -- a letter with a foreign stamp lay upon the table in front of the colonel's plate\",\n",
       " ' It was not a common thing for him to receive letters, for his bills were all paid in ready money, and he had no friends of any sort',\n",
       " \" 'From India!' said he as he took it up, 'Pondicherry postmark! What can this be?' Opening it hurriedly, out there jumped five little dried orange pips, which pattered down upon his plate\",\n",
       " ' I began to laugh at this, but the laugh was struck from my lips at the sight of his face',\n",
       " \" His lip had fallen, his eyes were protruding, his skin the colour of putty, and he glared at the envelope which he still held in his trembling hand, 'K\",\n",
       " ' K',\n",
       " ' K',\n",
       " \"!' he shrieked, and then, 'My God, my God, my sins have overtaken me!' ‘ 'What is it, uncle?' I cried\",\n",
       " \" ‘ 'Death,' said he, and rising from the table he retired to his room, leaving me palpitating with horror\",\n",
       " ' I took up the envelope and saw scrawled in red ink upon the inner flap, just above the gum, the letter K three times repeated',\n",
       " ' There was nothing else save the five dried pips',\n",
       " ' What could be the reason of his overpowering terror? I left the breakfast-table, and as I ascended the stair I met him coming down with an old rusty key, which must have belonged to the attic, in one hand, and a small brass box, like a cashbox, in the other',\n",
       " '']"
      ]
     },
     "execution_count": 27,
     "metadata": {},
     "output_type": "execute_result"
    }
   ],
   "source": [
    "stc_split_9 = orange_9.split('.')\n",
    "stc_split_9"
   ]
  },
  {
   "cell_type": "code",
   "execution_count": 28,
   "metadata": {},
   "outputs": [
    {
     "data": {
      "text/plain": [
       "[\"‘ 'They may do what they like, but I'll checkmate them still,' said he with an oath\",\n",
       " \" 'Tell Mary that I shall want a fire in my room today, and send down to Fordham, the Horsham lawyer\",\n",
       " \"' ‘I did as he ordered, and when the lawyer arrived I was asked to step up to the room\",\n",
       " ' The fire was burning brightly, and in the grate there was a mass of black, fluffy ashes, as of burned paper, while the brass box stood open and empty beside it',\n",
       " ' As I glanced at the box I noticed, with a start, that upon the lid was printed the treble K which I had read in the morning upon the envelope',\n",
       " '']"
      ]
     },
     "execution_count": 28,
     "metadata": {},
     "output_type": "execute_result"
    }
   ],
   "source": [
    "stc_split_10 = orange_10.split('.')\n",
    "stc_split_10"
   ]
  },
  {
   "cell_type": "code",
   "execution_count": 29,
   "metadata": {},
   "outputs": [
    {
     "data": {
      "text/plain": [
       "[\"‘ 'I wish you, John,' said my uncle, 'to witness my will\",\n",
       " ' I leave my estate, with all its advantages and all its disadvantages, to my brother, your father, whence it will, no doubt, descend to you',\n",
       " ' If you can enjoy it in peace, well and good! If you find you cannot, take my advice, my boy, and leave it to your deadliest enemy',\n",
       " \" I am sorry to give you such a two-edged thing, but I can't say what turn things are going to take\",\n",
       " ' Kindly sign the paper where Mr',\n",
       " ' Fordham shows you',\n",
       " \"' ‘I signed the paper as directed, and the lawyer took it away with him\",\n",
       " ' The singular incident made, as you may think, the deepest impression upon me, and I pondered over it and turned it every way in my mind without being able to make anything of it',\n",
       " '']"
      ]
     },
     "execution_count": 29,
     "metadata": {},
     "output_type": "execute_result"
    }
   ],
   "source": [
    "stc_split_11 = orange_11.split('.')\n",
    "stc_split_11"
   ]
  },
  {
   "cell_type": "code",
   "execution_count": 30,
   "metadata": {},
   "outputs": [
    {
     "data": {
      "text/plain": [
       "['Yet I could not shake off the vague feeling of dread which it left behind, though the sensation grew less keen as the weeks passed and nothing happened to disturb the usual routine of our lives',\n",
       " ' I could see a change in my uncle, however',\n",
       " ' He drank more than ever, and he was less inclined for any sort of society',\n",
       " ' Most of his time he would spend in his room, with the door locked upon the inside, but sometimes he would emerge in a sort of drunken frenzy and would burst out of the house and tear about the garden with a revolver in his hand, screaming out that he was afraid of no man, and that he was not to be cooped up, like a sheep in a pen, by man or devil',\n",
       " ' When these hot fits were over however, he would rush tumultuously in at the door and lock and bar it behind him, like a man who can brazen it out no longer against the terror which lies at the roots of his soul',\n",
       " ' At such times I have seen his face, even on a cold day, glisten with moisture, as though it were new raised from a basin',\n",
       " '']"
      ]
     },
     "execution_count": 30,
     "metadata": {},
     "output_type": "execute_result"
    }
   ],
   "source": [
    "stc_split_12 = orange_12.split('.')\n",
    "stc_split_12"
   ]
  },
  {
   "cell_type": "code",
   "execution_count": 31,
   "metadata": {},
   "outputs": [
    {
     "data": {
      "text/plain": [
       "['‘Well, to come to an end of the matter, Mr',\n",
       " ' Holmes, and not to abuse your patience, there came a night when he made one of those drunken sallies from which he never came back',\n",
       " ' We found him, when we went to search for him, face downward in a little green-scummed pool, which lay at the foot of the garden',\n",
       " \" There was no sign of any violence, and the water was but two feet deep, so that the jury, having regard to his known eccentricity, brought in a verdict of 'suicide\",\n",
       " \"' But I, who knew how he winced from the very thought of death, had much ado to persuade myself that he had gone out of his way to meet it\",\n",
       " ' The matter passed, however, and my father entered into possession of the estate, and of some 14,000 pounds, which lay to his credit at the bank',\n",
       " '’']"
      ]
     },
     "execution_count": 31,
     "metadata": {},
     "output_type": "execute_result"
    }
   ],
   "source": [
    "stc_split_13 = orange_13.split('.')\n",
    "stc_split_13"
   ]
  },
  {
   "cell_type": "code",
   "execution_count": 32,
   "metadata": {},
   "outputs": [
    {
     "data": {
      "text/plain": [
       "['‘One moment,’ Holmes interposed, ‘your statement is, I foresee, one of the most remarkable to which I have ever listened',\n",
       " ' Let me have the date of the reception by your uncle of the letter, and the date of his supposed suicide',\n",
       " '’ ‘The letter arrived on March 10, 1883',\n",
       " ' His death was seven weeks later, upon the night of May 2d',\n",
       " '’ ‘Thank you',\n",
       " ' Pray proceed',\n",
       " '’ ‘When my father took over the Horsham property, he, at my request, made a careful examination of the attic, which had been always locked up',\n",
       " ' We found the brass box there, although its contents had been destroyed',\n",
       " ' On the inside of the cover was a paper label, with the initials of K',\n",
       " ' K',\n",
       " ' K',\n",
       " \" repeated upon it, and 'Letters, memoranda, receipts, and a register' written beneath\",\n",
       " '']"
      ]
     },
     "execution_count": 32,
     "metadata": {},
     "output_type": "execute_result"
    }
   ],
   "source": [
    "stc_split_14 = orange_14.split('.')\n",
    "stc_split_14"
   ]
  },
  {
   "cell_type": "code",
   "execution_count": 33,
   "metadata": {},
   "outputs": [
    {
     "data": {
      "text/plain": [
       "['These, we presume, indicated the nature of the papers which had been destroyed by Colonel Openshaw',\n",
       " \" For the rest, there was nothing of much importance in the attic save a great many scattered papers and notebooks bearing upon my uncle's life in America\",\n",
       " ' Some of them were of the war time and showed that he had done his duty well and had borne the repute of a brave soldier',\n",
       " ' Others were of a date during the reconstruction of the Southern states, and were mostly concerned with politics, for he had evidently taken a strong part in opposing the carpetbag politicians who had been sent down from the North',\n",
       " '']"
      ]
     },
     "execution_count": 33,
     "metadata": {},
     "output_type": "execute_result"
    }
   ],
   "source": [
    "stc_split_15 = orange_15.split('.')\n",
    "stc_split_15"
   ]
  },
  {
   "cell_type": "code",
   "execution_count": 34,
   "metadata": {},
   "outputs": [
    {
     "data": {
      "text/plain": [
       "[\"‘Well, it was the beginning of '84 when my father came to live at Horsham, and all went as well as possible with us until the January of '85\",\n",
       " ' On the fourth day after the new year I heard my father give a sharp cry of surprise as we sat together at the breakfast-table',\n",
       " ' There he was, sitting with a newly opened envelope in one hand and five dried orange pips in the outstretched palm of the other one',\n",
       " ' He had always laughed at what he called my cock-and-bull story about the colonel, but he looked very scared and puzzled now that the same thing had come upon himself',\n",
       " '']"
      ]
     },
     "execution_count": 34,
     "metadata": {},
     "output_type": "execute_result"
    }
   ],
   "source": [
    "stc_split_16 = orange_16.split('.')\n",
    "stc_split_16"
   ]
  },
  {
   "cell_type": "code",
   "execution_count": 35,
   "metadata": {},
   "outputs": [
    {
     "data": {
      "text/plain": [
       "[\"‘ 'Why, what on earth does this mean, John?' he stammered\",\n",
       " ' ‘My heart had turned to lead',\n",
       " \" 'It is K\",\n",
       " ' K',\n",
       " ' K',\n",
       " \",' said I\",\n",
       " ' ‘He looked inside the envelope',\n",
       " \" 'So it is,' he cried\",\n",
       " \" 'Here are the very letters\",\n",
       " \" But what is this written above them?' ‘ 'Put the papers on the sundial,' I read, peeping over his shoulder\",\n",
       " \" ‘ 'What papers? What sundial?' he asked\",\n",
       " \" ‘ 'The sundial in the garden\",\n",
       " \" There is no other,' said I; 'but the papers must be those that are destroyed\",\n",
       " \"' ‘ 'Pooh!' said he, gripping hard at his courage\",\n",
       " \" 'We are in a civilized land here, and we can't have tomfoolery of this kind\",\n",
       " \" Where does the thing come from?' ‘ 'From Dundee,' I answered, glancing at the postmark\",\n",
       " \" ‘ 'Some preposterous practical joke,' said he\",\n",
       " \" 'What have I to do with sundials and papers? I shall take no notice of such nonsense\",\n",
       " \"' ‘ 'I should certainly speak to the police,' I said\",\n",
       " \" ‘ 'And be laughed at for my pains\",\n",
       " ' Nothing of the sort',\n",
       " \"' ‘ 'Then let me do so?' ‘ 'No, I forbid you\",\n",
       " \" I won't have a fuss made about such nonsense\",\n",
       " \"' ‘It was in vain to argue with him, for he was a very obstinate man\",\n",
       " ' I went about, however, with a heart which was full of forebodings',\n",
       " ' ‘On the third day after the coming of the letter my father went from home to visit an old friend of his, Major Freebody, who is in command of one of the forts upon Ports down Hill',\n",
       " ' I was glad that he should go, for it seemed to me that he was farther from danger when he was away from home',\n",
       " ' In that, however, I was in error',\n",
       " ' Upon the second day of his absence I received a telegram from the major, imploring me to come at once',\n",
       " ' My father had fallen over one of the deep chalk-pits which abound in the neighbourhood, and was lying senseless, with a shattered skull',\n",
       " ' I hurried to him, but he passed away without having ever recovered his consciousness',\n",
       " \" He had, as it appears, been returning from Fareham in the twilight, and as the country was unknown to him, and the chalk-pit unfenced, the jury had no hesitation in bringing in a verdict of 'death from accidental causes\",\n",
       " \"' Carefully as I examined every fact connected with his death, I was unable to find anything which could suggest the idea of murder\",\n",
       " ' There were no signs of violence, no footmarks, no robbery, no record of strangers having been seen upon the roads',\n",
       " ' And yet I need not tell you that my mind was far from at ease, and that I was well-nigh certain that some foul plot had been woven round him',\n",
       " ' ‘In this sinister way I came into my inheritance',\n",
       " \" You will ask me why I did not dispose of it? I answer, because I was well convinced that our troubles were in some way dependent upon an incident in my uncle's life, and that the danger would be as pressing in one house as in another\",\n",
       " '']"
      ]
     },
     "execution_count": 35,
     "metadata": {},
     "output_type": "execute_result"
    }
   ],
   "source": [
    "stc_split_17 = orange_17.split('.')\n",
    "stc_split_17"
   ]
  },
  {
   "cell_type": "code",
   "execution_count": 36,
   "metadata": {},
   "outputs": [
    {
     "data": {
      "text/plain": [
       "[\"‘It was in January, '85, that my poor father met his end, and two years and eight months have elapsed since then\",\n",
       " ' During that time I have lived happily at Horsham, and I had begun to hope that this curse had passed way from the family, and that it had ended with the last generation',\n",
       " ' I had begun to take comfort too soon, however; yesterday morning the blow fell in the very shape in which it had come upon my father',\n",
       " '’ The young man took from his waistcoat a crumpled envelope, and turning to the table he shook out upon it five little dried orange pips',\n",
       " ' ‘This is the envelope,’ he continued',\n",
       " ' ‘The postmark is London -- eastern division',\n",
       " \" Within are the very words which were upon my father's last message: 'K\",\n",
       " ' K',\n",
       " ' K',\n",
       " \"'; and then 'Put the papers on the sundial\",\n",
       " \"' ‘ ‘What have you done?'' asked Holmes\",\n",
       " ' ‘Nothing',\n",
       " '’ ‘Nothing?’ ‘To tell the truth’ -- he sank his face into his thin, white hands -- ‘I have felt helpless',\n",
       " ' I have felt like one of those poor rabbits when the snake is writhing towards it',\n",
       " ' I seem to be in the grasp of some resistless, inexorable evil, which no foresight and no precautions can guard against',\n",
       " '’']"
      ]
     },
     "execution_count": 36,
     "metadata": {},
     "output_type": "execute_result"
    }
   ],
   "source": [
    "stc_split_18 = orange_18.split('.')\n",
    "stc_split_18"
   ]
  },
  {
   "cell_type": "code",
   "execution_count": 37,
   "metadata": {},
   "outputs": [
    {
     "data": {
      "text/plain": [
       "['‘It is really two days since you had the letter',\n",
       " ' We should have acted before this',\n",
       " ' You have no further evidence, I suppose, than that which you have placed before us -- no suggestive detail which might help us?’ ‘There is one thing,’ said John Openshaw',\n",
       " ' He rummaged in his coat pocket, and, drawing out a piece of discoloured, blue tinted paper, he laid it out upon the table',\n",
       " ' ‘I have some remembrance,’ said he, ‘that on the day when my uncle burned the papers I observed that the small, unburned margins which lay amid the ashes were of this particular colour',\n",
       " ' I found this single sheet upon the floor of his room, and I am inclined to think that it may be one of the papers which has, perhaps, fluttered out from among the others, and in that way has escaped destruction',\n",
       " '']"
      ]
     },
     "execution_count": 37,
     "metadata": {},
     "output_type": "execute_result"
    }
   ],
   "source": [
    "stc_split_19 = orange_19.split('.')\n",
    "stc_split_19"
   ]
  },
  {
   "cell_type": "code",
   "execution_count": 38,
   "metadata": {},
   "outputs": [
    {
     "data": {
      "text/plain": [
       "['Beyond the mention of pips, I do not see that it helps us much',\n",
       " ' I think myself that it is a page from some private diary',\n",
       " \" The writing is undoubtedly my uncle's\",\n",
       " '’ Holmes moved the lamp, and we both bent over the sheet of paper, which showed by its ragged edge that it had indeed been torn from a book',\n",
       " ' It was headed, ‘March, 1869,’ and beneath were the following enigmatical notices: 4th',\n",
       " ' Hudson came',\n",
       " ' Same old platform',\n",
       " ' 7th',\n",
       " ' Set the pips on McCauley, Paramore, and John Swain, of St',\n",
       " ' Augustine',\n",
       " ' 9th',\n",
       " ' McCauley cleared',\n",
       " ' 1Oth',\n",
       " ' John Swain cleared',\n",
       " ' 12th',\n",
       " ' Visited Paramore',\n",
       " ' All well',\n",
       " '']"
      ]
     },
     "execution_count": 38,
     "metadata": {},
     "output_type": "execute_result"
    }
   ],
   "source": [
    "stc_split_20 = orange_20.split('.')\n",
    "stc_split_20"
   ]
  },
  {
   "cell_type": "code",
   "execution_count": 39,
   "metadata": {},
   "outputs": [
    {
     "data": {
      "text/plain": [
       "['‘Thank you!’ said Holmes, folding up the paper and returning it to our visitor',\n",
       " ' ‘And now you must on no account lose another instant',\n",
       " ' We cannot spare time even to discuss what you have told me',\n",
       " ' You must get home instantly and act',\n",
       " '’ ‘What shall I do?’ ‘There is but one thing to do',\n",
       " ' It must be done at once',\n",
       " ' You must put this piece of paper which you have shown us into the brass box which you have described',\n",
       " ' You must also put in a note to say that all the other papers were burned by your uncle, and that this is the only one which remains',\n",
       " ' You must assert that I such words as will carry conviction with them',\n",
       " ' Having done this, you must at once put the box out upon the sundial, as directed',\n",
       " ' Do you understand?’ ‘Entirely',\n",
       " '’ ‘Do not think of revenge, or anything of the sort, at present',\n",
       " ' I think that we may gain that by means of the law; but we have our web to weave, while theirs is already woven',\n",
       " ' The first consideration is to remove the pressing danger which threatens you',\n",
       " ' The second is to clear up the mystery and to punish the guilty parties',\n",
       " '’']"
      ]
     },
     "execution_count": 39,
     "metadata": {},
     "output_type": "execute_result"
    }
   ],
   "source": [
    "stc_split_21 = orange_21.split('.')\n",
    "stc_split_21"
   ]
  },
  {
   "cell_type": "code",
   "execution_count": 40,
   "metadata": {},
   "outputs": [
    {
     "data": {
      "text/plain": [
       "['‘I thank you,’ said the young man, rising and pulling on his overcoat',\n",
       " ' ‘You have given me fresh life and hope',\n",
       " ' I shall certainly do as you advise',\n",
       " '’ ‘Do not lose an instant',\n",
       " ' And, above all, take care of yourself in the meanwhile, for I do not think that there can be a doubt that you are threatened by a very real and imminent danger',\n",
       " ' How do you go back? ‘By train from Waterloo',\n",
       " '’ ‘It is not yet nine',\n",
       " ' The streets will be crowded, so l trust that you may be in safety',\n",
       " ' And yet you cannot guard yourself too closely',\n",
       " '’ ‘I am armed',\n",
       " '’ ‘That is well',\n",
       " ' Tomorrow I shall set to work upon your case',\n",
       " '’ ‘I shall see you at Horsham, then?’ ‘No, your secret lies in London',\n",
       " ' It is there that I shall seek it',\n",
       " '’ ‘Then I shall call upon you in a day, or in two days, with news as to the box and the papers',\n",
       " ' I shall take your advice in every particular',\n",
       " '’ He shook hands with us and took his leave',\n",
       " '']"
      ]
     },
     "execution_count": 40,
     "metadata": {},
     "output_type": "execute_result"
    }
   ],
   "source": [
    "stc_split_22 = orange_22.split('.')\n",
    "stc_split_22"
   ]
  },
  {
   "cell_type": "code",
   "execution_count": 41,
   "metadata": {},
   "outputs": [
    {
     "data": {
      "text/plain": [
       "['Outside the wind still screamed and the rain splashed and pattered against the windows',\n",
       " ' This strange, wild story seemed to have come to us from amid the mad elements -- blown in upon us like a sheet of seaweed in a gale -- and now to have been reabsorbed by them once more',\n",
       " ' Sherlock Holmes sat for some time in silence, with his head sunk forward and his eyes bent upon the red glow of the fire',\n",
       " ' Then he lit his pipe, and leaning back in his chair he watched the blue smoke-rings as they chased each other up to the ceiling']"
      ]
     },
     "execution_count": 41,
     "metadata": {},
     "output_type": "execute_result"
    }
   ],
   "source": [
    "stc_split_23 = orange_23.split('.')\n",
    "stc_split_23"
   ]
  },
  {
   "cell_type": "code",
   "execution_count": 42,
   "metadata": {},
   "outputs": [
    {
     "data": {
      "text/plain": [
       "['‘I think, Watson,’ he remarked at last, ‘that of all our cases we have had none more fantastic than this',\n",
       " '’ ‘Save, perhaps, the Sign of Four',\n",
       " '’ ‘Well, yes',\n",
       " ' Save, perhaps, that',\n",
       " ' And yet this John Openshaw seems to me to be walking amid even greater perils than did the Sholtos',\n",
       " '’ ‘But have you,’ I asked, ‘formed any definite conception as to what these perils are?’ ‘There can be no question as to their nature,’ he answered',\n",
       " ' ‘Then what are they? Who is this K',\n",
       " ' K',\n",
       " ' K',\n",
       " ', and why does he pursue this unhappy family?’']"
      ]
     },
     "execution_count": 42,
     "metadata": {},
     "output_type": "execute_result"
    }
   ],
   "source": [
    "stc_split_24 = orange_24.split('.')\n",
    "stc_split_24"
   ]
  },
  {
   "cell_type": "code",
   "execution_count": 43,
   "metadata": {},
   "outputs": [
    {
     "data": {
      "text/plain": [
       "['Sherlock Holmes closed his eyes and placed his elbows upon the arms of his chair, with his finger-tips together',\n",
       " ' ‘The ideal reasoner,’ he remarked, ‘would, when he had once been shown a single fact in all its bearings, deduce from it not only all the chain of events which led up to it but also all the results which would follow from it',\n",
       " ' As Cuvier could correctly describe a whole animal by the contemplation of a single bone, so the observer who has thoroughly understood one link in a series of incidents should be able to accurately state all the other ones, both before and after',\n",
       " ' We have not yet grasped the results which the reason alone can attain to',\n",
       " ' Problems may be solved in the study which have baffled all those who have sought a solution by the aid of their senses',\n",
       " ' To carry the art, however, to its highest pitch, it is necessary that the reasoner should be able to utilize all the facts which have come to his knowledge; and this in itself implies, as you will readily see, a possession of all knowledge, which, even in these days of free education and encyclopaedias, is a somewhat rare accomplishment',\n",
       " ' It is not so impossible, however, that a man should possess all knowledge which is likely to be useful to him in his work, and this I have endeavoured in my case to do',\n",
       " ' If I remember rightly, you on one occasion, in the early days of our friendship, defined my limits in a very precise fashion',\n",
       " '’']"
      ]
     },
     "execution_count": 43,
     "metadata": {},
     "output_type": "execute_result"
    }
   ],
   "source": [
    "stc_split_25 = orange_25.split('.')\n",
    "stc_split_25"
   ]
  },
  {
   "cell_type": "code",
   "execution_count": 44,
   "metadata": {},
   "outputs": [
    {
     "data": {
      "text/plain": [
       "['‘Yes,’ I answered, laughing',\n",
       " ' ‘It was a singular document',\n",
       " ' Philosophy, astronomy, and politics were marked at zero, I remember',\n",
       " ' Botany variable, geology profound as regards the mud-stains from any region within fifty miles of town, chemistry eccentric, anatomy unsystematic, sensational literature and crime records unique, violin-player, boxer, swordsman, lawyer, and self-poisoner by cocaine and tobacco',\n",
       " ' Those, I think, were the main points of my analysis',\n",
       " '’']"
      ]
     },
     "execution_count": 44,
     "metadata": {},
     "output_type": "execute_result"
    }
   ],
   "source": [
    "stc_split_26 = orange_26.split('.')\n",
    "stc_split_26"
   ]
  },
  {
   "cell_type": "code",
   "execution_count": 45,
   "metadata": {},
   "outputs": [
    {
     "data": {
      "text/plain": [
       "['Holmes grinned at the last item',\n",
       " ' ‘Well,’ he said, ‘I say now, as I said then, that a man should keep his little brain-attic stocked with all the furniture that he is likely to use, and the rest he can put away in the lumber-room of his library, where he can get it if he wants it',\n",
       " ' Now, for such a case as the one which has been submitted to us tonight, we need certainly to muster all our resources',\n",
       " ' Kindly hand me down the letter K of the American Encyclopaedia which stands upon the shelf beside you',\n",
       " ' Thank you',\n",
       " ' Now let us consider the situation and see what may be deduced from it',\n",
       " ' In the first place, we may start with a strong presumption that Colonel Openshaw had some very strong reason for leaving America',\n",
       " ' Men at his time of life do not change all their habits and exchange willingly the charming climate of Florida for the lonely life of an English provincial town',\n",
       " ' His extreme love of solitude in England suggests the idea that he was in fear of someone or something, so we may assume as a working hypothesis that it was fear of someone or something which drove him from America',\n",
       " ' As to what it was he feared, we can only deduce that by considering the formidable letters which were received by himself and his successors',\n",
       " ' Did you remark the postmarks of those letters?’ ‘The first was from Pondicherry, the second from Dundee, and the third from London',\n",
       " '’ ‘From East London',\n",
       " ' What do you deduce from that?’ ‘They are all seaports',\n",
       " ' That the writer was on board of a ship',\n",
       " '’ ‘Excellent',\n",
       " ' We have already a clue',\n",
       " ' There can be no doubt that the probability -- the strong probability -- is that the writer was on board of a ship',\n",
       " ' And now let us consider another point',\n",
       " ' In the case of Pondicherry, seven weeks elapsed between the threat and its fulfilment, in Dundee it was only some three or four days',\n",
       " ' Does that suggest anything?’ ‘A greater distance to travel',\n",
       " '’ ‘But the letter had also a greater distance to come',\n",
       " '’']"
      ]
     },
     "execution_count": 45,
     "metadata": {},
     "output_type": "execute_result"
    }
   ],
   "source": [
    "stc_split_27 = orange_27.split('.')\n",
    "stc_split_27"
   ]
  },
  {
   "cell_type": "code",
   "execution_count": 46,
   "metadata": {},
   "outputs": [
    {
     "data": {
      "text/plain": [
       "['‘Then I do not see the point',\n",
       " '’ ‘There is at least a presumption that the vessel in which the man or men are is a sailing-ship',\n",
       " ' It looks as if they always send their singular warning or token before them when starting upon their mission',\n",
       " ' You see how quickly the deed followed the sign when it came from Dundee',\n",
       " ' If they had come from Pondicherry in a steamer they would have arrived almost as soon as their letter',\n",
       " ' But, as a matter of fact, seven weeks elapsed',\n",
       " ' I think that those seven weeks represented the difference between the mailboat which brought the letter and the sailing vessel which brought the writer',\n",
       " '’ ‘It is possible',\n",
       " '’ ‘More than that',\n",
       " ' It is probable',\n",
       " ' And now you see the deadly urgency of this new case, and why I urged young Openshaw to caution',\n",
       " ' The blow has always fallen at the end of the time which it would take the senders to travel the distance',\n",
       " ' But this one comes from London, and therefore we cannot count upon delay',\n",
       " '’ ‘Good God!’ I cried',\n",
       " ' ‘What can it mean, this relentless persecution?’ ‘The papers which Openshaw carried are obviously of vital importance to the person or persons in the sailing-ship',\n",
       " ' I think that it is quite clear that there must be more than one of them',\n",
       " \" A single man could not have carried out two deaths in such a way as to deceive a coroner's jury\",\n",
       " ' There must have been several in it, and they must have been men of resource and determination',\n",
       " ' Their papers they mean to have, be the holder of them who it may',\n",
       " ' In this way you see K',\n",
       " ' K',\n",
       " ' K',\n",
       " ' ceases to be the initials of an individual and becomes the badge of a society',\n",
       " '’ ‘But of what society?’ ‘Have you never --’ said Sherlock Holmes, bending forward and sinking his voice --’have you never heard of the Ku Klux Klan?’ ‘I never have',\n",
       " '’']"
      ]
     },
     "execution_count": 46,
     "metadata": {},
     "output_type": "execute_result"
    }
   ],
   "source": [
    "stc_split_28 = orange_28.split('.')\n",
    "stc_split_28"
   ]
  },
  {
   "cell_type": "code",
   "execution_count": 47,
   "metadata": {},
   "outputs": [
    {
     "data": {
      "text/plain": [
       "['Holmes turned over the leaves of the book upon his knee',\n",
       " ' ‘Here it is,’ said he presently: ‘Ku Klux Klan',\n",
       " ' A name derived from the fanciful resemblance to the sound produced by cocking a rifle',\n",
       " ' This terrible secret society was formed by some ex-Confederate soldiers in the Southern states after the Civil War, and it rapidly formed local branches in different parts of the country, notably in Tennessee, Louisiana, the Carolinas, Georgia, and Florida',\n",
       " ' Its power was used for political purposes, principally for the terrorizing of the negro voters and the murdering and driving from the country of those who were opposed to its views',\n",
       " ' Its outrages were usually preceded by a warning sent to the marked man in some fantastic but generally recognized shape -- a sprig of oak-leaves in some parts, melon seeds or orange pips in others',\n",
       " ' On receiving this the victim might either openly abjure his former ways, or might fly from the country',\n",
       " ' If he braved the matter out, death would unfailingly come upon him, and usually in some strange and unforeseen manner',\n",
       " ' So perfect was the organization of the society, and so systematic its methods, that there is hardly a case upon record where any man succeeded in braving it with impunity, or in which any of its outrages were traced home to the perpetrators',\n",
       " ' For some years the organization flourished in spite of the efforts of the United States government and of the better classes of the community in the South',\n",
       " ' Eventually, in the year 1869, the movement rather suddenly collapsed, although there have been sporadic outbreaks of the same sort since that date',\n",
       " '']"
      ]
     },
     "execution_count": 47,
     "metadata": {},
     "output_type": "execute_result"
    }
   ],
   "source": [
    "stc_split_29 = orange_29.split('.')\n",
    "stc_split_29"
   ]
  },
  {
   "cell_type": "code",
   "execution_count": 48,
   "metadata": {},
   "outputs": [
    {
     "data": {
      "text/plain": [
       "['‘You will observe,’ said Holmes, laying down the volume, ‘that the sudden breaking up of the society was coincident with the disappearance of Openshaw from America with their papers',\n",
       " ' It may well have been cause and effect',\n",
       " ' It is no wonder that he and his family have some of the more implacable spirits upon their track',\n",
       " ' You can understand that this register and diary may implicate some of the first men in the South, and that there may be many who will not sleep easy at night until it is recovered',\n",
       " '’  ‘Then the page we have seen --’ ‘Is such as we might expect',\n",
       " \" It ran, if I remember right, 'sent the pips to A, B, and C' -- that is, sent the society's warning to them\",\n",
       " ' Then there are successive entries that A and B cleared, or left the country, and finally that C was visited, with, I fear, a sinister result for C',\n",
       " ' Well, I think, Doctor, that we may let some light into this dark place, and I believe that the only chance young Openshaw has in the meantime is to do what I have told him',\n",
       " ' There is nothing more to be said or to be done tonight, so hand me over my violin and let us try to forget for half an hour the miserable weather and the still more miserable ways of our fellowmen',\n",
       " '’']"
      ]
     },
     "execution_count": 48,
     "metadata": {},
     "output_type": "execute_result"
    }
   ],
   "source": [
    "stc_split_30 = orange_30.split('.')\n",
    "stc_split_30"
   ]
  },
  {
   "cell_type": "code",
   "execution_count": 49,
   "metadata": {},
   "outputs": [
    {
     "data": {
      "text/plain": [
       "[' It had cleared in the morning, and the sun was shining with a subdued brightness through the dim veil which hangs over the great city',\n",
       " ' Sherlock Holmes was already at breakfast when I came down',\n",
       " \" ‘You will excuse me for not waiting for you,’ said he; ‘I have, I foresee, a very busy day before me in looking into this case of young Openshaw's\",\n",
       " '’ ‘What steps will you take?’ I asked',\n",
       " ' ‘It will very much depend upon the results of my first inquiries',\n",
       " ' I may have to go down to Horsham, after all',\n",
       " '’ ‘You will not go there first?’ ‘No, I shall commence with the City',\n",
       " ' Just ring the bell and the maid will bring up your coffee',\n",
       " '’ As I waited, I lifted the unopened newspaper from the table and glanced my eye over it',\n",
       " ' It rested upon a heading which sent a chill to my heart',\n",
       " '']"
      ]
     },
     "execution_count": 49,
     "metadata": {},
     "output_type": "execute_result"
    }
   ],
   "source": [
    "stc_split_31 = orange_31.split('.')\n",
    "stc_split_31"
   ]
  },
  {
   "cell_type": "code",
   "execution_count": 50,
   "metadata": {},
   "outputs": [
    {
     "data": {
      "text/plain": [
       "['‘Holmes,’ I cried, ‘you are too late',\n",
       " '’ ‘Ah!’ said he, laying down his cup, ‘I feared as much',\n",
       " ' How was it done?’ He spoke calmly, but I could see that he was deeply moved',\n",
       " \" ‘My eye caught the name of Openshaw, and the heading 'Tragedy Near Waterloo Bridge\",\n",
       " \"' Here is the account:  ‘Between nine and ten last night Police-Constable Cook, of the H Division, on duty near Waterloo Bridge, heard a cry for help and a splash in the water\",\n",
       " ' The night, however, was extremely dark and stormy, so that, in spite of the help of several passers-by, it was quite impossible to affect a rescue',\n",
       " ' The alarm, however, was given, and, by the aid of the water-police, the body was eventually recovered',\n",
       " ' It proved to be that of a young gentleman whose name, as it appears from an envelope which was found in his pocket, was John Openshaw, and whose residence is near Horsham',\n",
       " ' It is conjectured that he may have been hurrying down to catch the last train from Waterloo Station, and that in his haste and the extreme darkness he missed his path and walked over the edge of one of the small landing-places for river steamboats',\n",
       " ' The body exhibited no traces of violence,  and there can be no doubt that the deceased had been the victim of an unfortunate accident, which should have the effect of calling the attention of the authorities to the condition of the riverside landing-stages',\n",
       " '’']"
      ]
     },
     "execution_count": 50,
     "metadata": {},
     "output_type": "execute_result"
    }
   ],
   "source": [
    "stc_split_32 = orange_32.split('.')\n",
    "stc_split_32"
   ]
  },
  {
   "cell_type": "code",
   "execution_count": 51,
   "metadata": {},
   "outputs": [
    {
     "data": {
      "text/plain": [
       "['We sat in silence for some minutes, Holmes more depressed and shaken than I had ever seen him',\n",
       " ' ‘That hurts my pride, Watson,’ he said at last',\n",
       " ' ‘It is a petty feeling, no doubt, but it hurts my pride',\n",
       " ' It becomes a personal matter with me now, and, if God sends me health, I shall set my hand upon this gang',\n",
       " ' That he should come to me for help, and that I should send him away to his death --!’ He sprang from his chair and paced about the room in uncontrollable agitation, with a flush upon his sallow cheeks and a nervous clasping and unclasping of his long thin hands',\n",
       " '']"
      ]
     },
     "execution_count": 51,
     "metadata": {},
     "output_type": "execute_result"
    }
   ],
   "source": [
    "stc_split_33 = orange_33.split('.')\n",
    "stc_split_33"
   ]
  },
  {
   "cell_type": "code",
   "execution_count": 52,
   "metadata": {},
   "outputs": [
    {
     "data": {
      "text/plain": [
       "['‘They must be cunning devils,’ he exclaimed at last',\n",
       " ' ‘How could they have decoyed him down there? The Embankment is not on the direct line to the station',\n",
       " ' The bridge, no doubt, was too crowded, even on such a night, for their purpose',\n",
       " ' Well, Watson, we shall see who will win in the long run',\n",
       " ' I am going out now!’ ‘To the police?’ ‘No; I shall be my own police',\n",
       " ' When I have spun the web they may take the flies, but not before',\n",
       " '’ All day I was engaged in my professional work, and it was late in the evening before I returned to Baker Street',\n",
       " ' Sherlock Holmes had not come back yet',\n",
       " \" It was nearly ten o'clock before he entered, looking pale and worn\",\n",
       " ' He walked up to the sideboard, and tearing a piece from the loaf he devoured it voraciously, washing it down with a long draught of water',\n",
       " ' ‘You are hungry,’ I remarked',\n",
       " ' ‘Starving',\n",
       " ' It had escaped my memory',\n",
       " ' I have had nothing since breakfast',\n",
       " '’ ‘Nothing?’ ‘Not a bite',\n",
       " ' I had no time to think of it',\n",
       " '’ ‘And how have you succeeded?’ ‘Well',\n",
       " '’ ‘You have a clue?’ ‘I have them in the hollow of my hand',\n",
       " ' Young Openshaw shall not long remain unavenged',\n",
       " ' Why, Watson, let us put their own devilish trademark upon them',\n",
       " ' It is well thought of!’ ‘What do you mean?’ He took an orange from the cupboard, and tearing it to pieces he squeezed out the pips upon the table',\n",
       " ' Of these he took five and thrust them into an envelope',\n",
       " ' On the inside of the flap he wrote ‘S',\n",
       " ' H',\n",
       " ' for J',\n",
       " ' 0',\n",
       " '’ Then he sealed it and addressed it to ‘Captain James Calhoun, Bark Lone Star, Savannah, Georgia',\n",
       " '’ ‘That will await him when he enters port,’ said he, chuckling',\n",
       " ' ‘It may give him a sleepless night',\n",
       " ' He will find it as sure a precursor of his fate as Openshaw did before him',\n",
       " '’ ‘And who is this Captain Calhoun?’ ‘The leader of the gang',\n",
       " ' I shall have the others, but he first',\n",
       " '’ ‘How did you trace it, then?’ He took a large sheet of paper from his pocket, all covered with dates and names',\n",
       " \" ‘I have spent the whole day,’ said he, ‘over Lloyd's registers and files of the old papers, following the future career of every vessel which touched at Pondicherry in January and February in '83\",\n",
       " ' There were thirty-six ships of fair tonnage which were reported there during those months',\n",
       " ' Of these, one, the Lone Star, instantly attracted my attention, since, although it was reported as having cleared from London, the name is that which is given to one of the states of the Union',\n",
       " '’']"
      ]
     },
     "execution_count": 52,
     "metadata": {},
     "output_type": "execute_result"
    }
   ],
   "source": [
    "stc_split_34 = orange_34.split('.')\n",
    "stc_split_34"
   ]
  },
  {
   "cell_type": "code",
   "execution_count": 53,
   "metadata": {},
   "outputs": [
    {
     "data": {
      "text/plain": [
       "['‘Texas, I think',\n",
       " '’ ‘I was not and am not sure which; but I knew that the ship must have an American origin',\n",
       " \"’ ‘What then?’ ‘I searched the Dundee records, and when I found that the bark Lone Star was there in January, '85, my suspicion became a certainty\",\n",
       " ' I then inquired as to the vessels which lay at present in the port of London',\n",
       " '’ ‘Yes?’ ‘The Lone Star had arrived here last week',\n",
       " ' I went down to the Albert Dock and found that she had been taken down the river by the early tide this morning, homeward bound to Savannah',\n",
       " ' I wired to Gravesend and learned that she had passed some time ago, and as the wind is easterly I have no doubt that she is now past the Goodwins and not very far from the Isle of Wight',\n",
       " '’ ‘What will you do, then?’ ‘Oh, I have my hand upon him',\n",
       " ' He and the two mates, are as I learn, the only native-born Americans in the ship',\n",
       " ' The other are Finns and Germans',\n",
       " ' I know, also, that they were all three away from the ship last night',\n",
       " ' I had it from the stevedore who has been loading their cargo',\n",
       " ' By the time that their sailing-ship reaches Savannah the mail-boat will have carried this letter, and the cable will have informed the police of Savannah that these three gentlemen are badly wanted here upon a charge of murder',\n",
       " '’']"
      ]
     },
     "execution_count": 53,
     "metadata": {},
     "output_type": "execute_result"
    }
   ],
   "source": [
    "stc_split_35 = orange_35.split('.')\n",
    "stc_split_35"
   ]
  },
  {
   "cell_type": "code",
   "execution_count": 54,
   "metadata": {},
   "outputs": [
    {
     "data": {
      "text/plain": [
       "['There is ever a flaw, however, in the best laid of human plans, and the murderers of John Openshaw were never to receive the orange pips which would show them that another, as cunning and as resolute as themselves, was upon their track',\n",
       " ' Very long and very severe were the equinoctial gales that year',\n",
       " ' We waited long for news of the Lone Star of Savannah, but none ever reached us',\n",
       " ' We did at last hear that somewhere far out in the Atlantic a shattered stern-post of the boat was seen swinging in the trough of a wave, with the letters ‘L',\n",
       " ' S',\n",
       " '’ carved upon it, and that is all which we shall ever know of the fate of the Lone Star',\n",
       " '']"
      ]
     },
     "execution_count": 54,
     "metadata": {},
     "output_type": "execute_result"
    }
   ],
   "source": [
    "stc_split_36 = orange_36.split('.')\n",
    "stc_split_36"
   ]
  },
  {
   "cell_type": "code",
   "execution_count": 55,
   "metadata": {},
   "outputs": [
    {
     "name": "stdout",
     "output_type": "stream",
     "text": [
      "  (0, 1)\t0.7071067811865475\n",
      "  (0, 0)\t0.7071067811865475\n"
     ]
    }
   ],
   "source": [
    "from sklearn.feature_extraction.text import TfidfVectorizer\n",
    "\n",
    "vectorizer = TfidfVectorizer(stop_words = 'english')\n",
    "response = vectorizer.fit_transform(orange)\n",
    "print(response)"
   ]
  },
  {
   "cell_type": "code",
   "execution_count": 65,
   "metadata": {},
   "outputs": [
    {
     "name": "stdout",
     "output_type": "stream",
     "text": [
      "  (0, 32)\t0.22941573387056177\n",
      "  (0, 8)\t0.22941573387056177\n",
      "  (0, 31)\t0.22941573387056177\n",
      "  (0, 34)\t0.22941573387056177\n",
      "  (0, 15)\t0.22941573387056177\n",
      "  (0, 21)\t0.22941573387056177\n",
      "  (0, 30)\t0.22941573387056177\n",
      "  (0, 56)\t0.22941573387056177\n",
      "  (0, 44)\t0.22941573387056177\n",
      "  (0, 19)\t0.22941573387056177\n",
      "  (0, 1)\t0.22941573387056177\n",
      "  (0, 0)\t0.22941573387056177\n",
      "  (0, 59)\t0.22941573387056177\n",
      "  (0, 7)\t0.22941573387056177\n",
      "  (0, 28)\t0.22941573387056177\n",
      "  (0, 52)\t0.22941573387056177\n",
      "  (0, 49)\t0.22941573387056177\n",
      "  (0, 36)\t0.22941573387056177\n",
      "  (0, 26)\t0.22941573387056177\n",
      "  (1, 29)\t0.25\n",
      "  (1, 37)\t0.25\n",
      "  (1, 13)\t0.25\n",
      "  (1, 27)\t0.25\n",
      "  (1, 43)\t0.25\n",
      "  (1, 24)\t0.25\n",
      "  :\t:\n",
      "  (2, 57)\t0.2527726716084208\n",
      "  (2, 10)\t0.2527726716084208\n",
      "  (2, 23)\t0.2527726716084208\n",
      "  (2, 18)\t0.2527726716084208\n",
      "  (2, 9)\t0.20393539986751064\n",
      "  (2, 40)\t0.2527726716084208\n",
      "  (2, 16)\t0.2527726716084208\n",
      "  (2, 6)\t0.2527726716084208\n",
      "  (2, 35)\t0.2527726716084208\n",
      "  (2, 53)\t0.2527726716084208\n",
      "  (2, 4)\t0.2527726716084208\n",
      "  (2, 5)\t0.2527726716084208\n",
      "  (3, 17)\t0.28115059864574005\n",
      "  (3, 45)\t0.28115059864574005\n",
      "  (3, 11)\t0.28115059864574005\n",
      "  (3, 42)\t0.28115059864574005\n",
      "  (3, 20)\t0.28115059864574005\n",
      "  (3, 54)\t0.28115059864574005\n",
      "  (3, 3)\t0.28115059864574005\n",
      "  (3, 58)\t0.28115059864574005\n",
      "  (3, 51)\t0.28115059864574005\n",
      "  (3, 55)\t0.28115059864574005\n",
      "  (3, 14)\t0.28115059864574005\n",
      "  (3, 50)\t0.28115059864574005\n",
      "  (3, 9)\t0.2268305327192613\n"
     ]
    }
   ],
   "source": [
    "from sklearn.feature_extraction.text import TfidfVectorizer\n",
    "\n",
    "vectorizer = TfidfVectorizer(stop_words = 'english')\n",
    "response_1 = vectorizer.fit_transform(stc_split_1)\n",
    "print(response_1)"
   ]
  },
  {
   "cell_type": "code",
   "execution_count": 66,
   "metadata": {},
   "outputs": [
    {
     "name": "stdout",
     "output_type": "stream",
     "text": [
      "  (0, 51)\t0.3333333333333333\n",
      "  (0, 53)\t0.3333333333333333\n",
      "  (0, 29)\t0.3333333333333333\n",
      "  (0, 12)\t0.3333333333333333\n",
      "  (0, 54)\t0.3333333333333333\n",
      "  (0, 38)\t0.3333333333333333\n",
      "  (0, 25)\t0.3333333333333333\n",
      "  (0, 0)\t0.3333333333333333\n",
      "  (0, 70)\t0.3333333333333333\n",
      "  (1, 11)\t0.141954420804586\n",
      "  (1, 48)\t0.17594884564775196\n",
      "  (1, 10)\t0.17594884564775196\n",
      "  (1, 24)\t0.17594884564775196\n",
      "  (1, 64)\t0.17594884564775196\n",
      "  (1, 37)\t0.17594884564775196\n",
      "  (1, 46)\t0.17594884564775196\n",
      "  (1, 31)\t0.17594884564775196\n",
      "  (1, 4)\t0.17594884564775196\n",
      "  (1, 56)\t0.141954420804586\n",
      "  (1, 6)\t0.17594884564775196\n",
      "  (1, 59)\t0.17594884564775196\n",
      "  (1, 7)\t0.17594884564775196\n",
      "  (1, 9)\t0.17594884564775196\n",
      "  (1, 39)\t0.17594884564775196\n",
      "  (1, 17)\t0.17594884564775196\n",
      "  :\t:\n",
      "  (2, 28)\t0.2255841591092962\n",
      "  (2, 20)\t0.2255841591092962\n",
      "  (2, 35)\t0.2255841591092962\n",
      "  (2, 69)\t0.2255841591092962\n",
      "  (2, 50)\t0.2255841591092962\n",
      "  (2, 67)\t0.2255841591092962\n",
      "  (2, 42)\t0.2255841591092962\n",
      "  (2, 19)\t0.2255841591092962\n",
      "  (2, 68)\t0.2255841591092962\n",
      "  (2, 1)\t0.2255841591092962\n",
      "  (2, 34)\t0.2255841591092962\n",
      "  (2, 55)\t0.2255841591092962\n",
      "  (2, 52)\t0.2255841591092962\n",
      "  (2, 11)\t0.18199987917601243\n",
      "  (3, 47)\t0.3064125284733739\n",
      "  (3, 61)\t0.3064125284733739\n",
      "  (3, 14)\t0.3064125284733739\n",
      "  (3, 63)\t0.3064125284733739\n",
      "  (3, 60)\t0.3064125284733739\n",
      "  (3, 23)\t0.3064125284733739\n",
      "  (3, 49)\t0.3064125284733739\n",
      "  (3, 18)\t0.3064125284733739\n",
      "  (3, 27)\t0.3064125284733739\n",
      "  (3, 57)\t0.3064125284733739\n",
      "  (3, 56)\t0.24721169864215167\n"
     ]
    }
   ],
   "source": [
    "from sklearn.feature_extraction.text import TfidfVectorizer\n",
    "\n",
    "vectorizer = TfidfVectorizer(stop_words = 'english')\n",
    "response_2 = vectorizer.fit_transform(stc_split_2)\n",
    "print(response_2)"
   ]
  },
  {
   "cell_type": "code",
   "execution_count": 67,
   "metadata": {},
   "outputs": [
    {
     "name": "stdout",
     "output_type": "stream",
     "text": [
      "  (0, 71)\t0.38713122308445347\n",
      "  (0, 21)\t0.38713122308445347\n",
      "  (0, 60)\t0.38713122308445347\n",
      "  (0, 27)\t0.38713122308445347\n",
      "  (0, 19)\t0.38713122308445347\n",
      "  (0, 59)\t0.38713122308445347\n",
      "  (0, 14)\t0.31745314091816873\n",
      "  (1, 5)\t0.18252165641459145\n",
      "  (1, 2)\t0.18252165641459145\n",
      "  (1, 70)\t0.18252165641459145\n",
      "  (1, 39)\t0.14967036926845523\n",
      "  (1, 8)\t0.18252165641459145\n",
      "  (1, 1)\t0.18252165641459145\n",
      "  (1, 43)\t0.18252165641459145\n",
      "  (1, 62)\t0.18252165641459145\n",
      "  (1, 25)\t0.18252165641459145\n",
      "  (1, 18)\t0.18252165641459145\n",
      "  (1, 48)\t0.18252165641459145\n",
      "  (1, 52)\t0.18252165641459145\n",
      "  (1, 38)\t0.18252165641459145\n",
      "  (1, 54)\t0.18252165641459145\n",
      "  (1, 36)\t0.18252165641459145\n",
      "  (1, 44)\t0.18252165641459145\n",
      "  (1, 51)\t0.18252165641459145\n",
      "  (1, 24)\t0.18252165641459145\n",
      "  :\t:\n",
      "  (3, 65)\t0.1900974987375109\n",
      "  (3, 58)\t0.3801949974750218\n",
      "  (3, 22)\t0.1900974987375109\n",
      "  (3, 55)\t0.1900974987375109\n",
      "  (3, 9)\t0.1900974987375109\n",
      "  (3, 15)\t0.1900974987375109\n",
      "  (3, 11)\t0.1900974987375109\n",
      "  (3, 53)\t0.1900974987375109\n",
      "  (3, 35)\t0.1900974987375109\n",
      "  (3, 12)\t0.1900974987375109\n",
      "  (3, 23)\t0.1900974987375109\n",
      "  (3, 45)\t0.1900974987375109\n",
      "  (3, 56)\t0.1900974987375109\n",
      "  (3, 33)\t0.1900974987375109\n",
      "  (3, 61)\t0.1900974987375109\n",
      "  (3, 50)\t0.15588266834717593\n",
      "  (4, 67)\t0.3395703499322558\n",
      "  (4, 0)\t0.3395703499322558\n",
      "  (4, 49)\t0.3395703499322558\n",
      "  (4, 47)\t0.3395703499322558\n",
      "  (4, 17)\t0.3395703499322558\n",
      "  (4, 46)\t0.3395703499322558\n",
      "  (4, 72)\t0.3395703499322558\n",
      "  (4, 74)\t0.3395703499322558\n",
      "  (4, 14)\t0.27845254456564456\n"
     ]
    }
   ],
   "source": [
    "from sklearn.feature_extraction.text import TfidfVectorizer\n",
    "\n",
    "vectorizer = TfidfVectorizer(stop_words = 'english')\n",
    "response_3 = vectorizer.fit_transform(stc_split_3)\n",
    "print(response_3)"
   ]
  },
  {
   "cell_type": "code",
   "execution_count": 68,
   "metadata": {},
   "outputs": [
    {
     "name": "stdout",
     "output_type": "stream",
     "text": [
      "  (0, 1)\t0.4472135954999579\n",
      "  (0, 17)\t0.4472135954999579\n",
      "  (0, 6)\t0.4472135954999579\n",
      "  (0, 11)\t0.4472135954999579\n",
      "  (0, 16)\t0.4472135954999579\n",
      "  (1, 0)\t0.5\n",
      "  (1, 10)\t0.5\n",
      "  (1, 18)\t0.5\n",
      "  (1, 5)\t0.5\n",
      "  (2, 19)\t0.7071067811865476\n",
      "  (2, 9)\t0.7071067811865476\n",
      "  (3, 3)\t0.7071067811865476\n",
      "  (3, 4)\t0.7071067811865476\n",
      "  (4, 12)\t0.5\n",
      "  (4, 8)\t0.5\n",
      "  (4, 15)\t0.5\n",
      "  (4, 2)\t0.5\n",
      "  (5, 13)\t0.5773502691896257\n",
      "  (5, 7)\t0.5773502691896257\n",
      "  (5, 14)\t0.5773502691896257\n"
     ]
    }
   ],
   "source": [
    "from sklearn.feature_extraction.text import TfidfVectorizer\n",
    "\n",
    "vectorizer = TfidfVectorizer(stop_words = 'english')\n",
    "response_4 = vectorizer.fit_transform(stc_split_4)\n",
    "print(response_4)"
   ]
  },
  {
   "cell_type": "code",
   "execution_count": 69,
   "metadata": {},
   "outputs": [
    {
     "name": "stdout",
     "output_type": "stream",
     "text": [
      "  (0, 6)\t0.3333333333333333\n",
      "  (0, 17)\t0.3333333333333333\n",
      "  (0, 11)\t0.3333333333333333\n",
      "  (0, 15)\t0.3333333333333333\n",
      "  (0, 2)\t0.3333333333333333\n",
      "  (0, 5)\t0.3333333333333333\n",
      "  (0, 20)\t0.3333333333333333\n",
      "  (0, 7)\t0.3333333333333333\n",
      "  (0, 13)\t0.3333333333333333\n",
      "  (1, 14)\t0.3162277660168379\n",
      "  (1, 10)\t0.3162277660168379\n",
      "  (1, 3)\t0.3162277660168379\n",
      "  (1, 19)\t0.3162277660168379\n",
      "  (1, 1)\t0.3162277660168379\n",
      "  (1, 8)\t0.3162277660168379\n",
      "  (1, 18)\t0.3162277660168379\n",
      "  (1, 0)\t0.3162277660168379\n",
      "  (1, 9)\t0.3162277660168379\n",
      "  (1, 16)\t0.3162277660168379\n",
      "  (2, 12)\t0.7071067811865476\n",
      "  (2, 4)\t0.7071067811865476\n"
     ]
    }
   ],
   "source": [
    "from sklearn.feature_extraction.text import TfidfVectorizer\n",
    "\n",
    "vectorizer = TfidfVectorizer(stop_words = 'english')\n",
    "response_5 = vectorizer.fit_transform(stc_split_5)\n",
    "print(response_5)"
   ]
  },
  {
   "cell_type": "code",
   "execution_count": 70,
   "metadata": {},
   "outputs": [
    {
     "name": "stdout",
     "output_type": "stream",
     "text": [
      "  (0, 2)\t0.3223862543437356\n",
      "  (0, 5)\t0.3223862543437356\n",
      "  (0, 23)\t0.3223862543437356\n",
      "  (0, 3)\t0.3223862543437356\n",
      "  (0, 27)\t0.3223862543437356\n",
      "  (0, 12)\t0.3223862543437356\n",
      "  (0, 21)\t0.3223862543437356\n",
      "  (0, 32)\t0.3223862543437356\n",
      "  (0, 6)\t0.3223862543437356\n",
      "  (0, 20)\t0.25417302589367324\n",
      "  (1, 4)\t0.3015113445777636\n",
      "  (1, 30)\t0.3015113445777636\n",
      "  (1, 9)\t0.3015113445777636\n",
      "  (1, 26)\t0.3015113445777636\n",
      "  (1, 29)\t0.3015113445777636\n",
      "  (1, 24)\t0.3015113445777636\n",
      "  (1, 18)\t0.3015113445777636\n",
      "  (1, 13)\t0.3015113445777636\n",
      "  (1, 15)\t0.3015113445777636\n",
      "  (1, 28)\t0.3015113445777636\n",
      "  (1, 25)\t0.3015113445777636\n",
      "  (2, 0)\t0.2814770040050052\n",
      "  (2, 11)\t0.2814770040050052\n",
      "  (2, 31)\t0.2814770040050052\n",
      "  (2, 17)\t0.2814770040050052\n",
      "  (2, 14)\t0.2814770040050052\n",
      "  (2, 7)\t0.2814770040050052\n",
      "  (2, 22)\t0.2814770040050052\n",
      "  (2, 8)\t0.2814770040050052\n",
      "  (2, 16)\t0.2814770040050052\n",
      "  (2, 10)\t0.2814770040050052\n",
      "  (2, 1)\t0.2814770040050052\n",
      "  (2, 19)\t0.2814770040050052\n",
      "  (2, 20)\t0.2219197030378226\n"
     ]
    }
   ],
   "source": [
    "from sklearn.feature_extraction.text import TfidfVectorizer\n",
    "\n",
    "vectorizer = TfidfVectorizer(stop_words = 'english')\n",
    "response_6 = vectorizer.fit_transform(stc_split_6)\n",
    "print(response_6)"
   ]
  },
  {
   "cell_type": "code",
   "execution_count": 71,
   "metadata": {},
   "outputs": [
    {
     "name": "stdout",
     "output_type": "stream",
     "text": [
      "  (0, 69)\t0.3654385301531655\n",
      "  (0, 131)\t0.3654385301531655\n",
      "  (0, 138)\t0.3654385301531655\n",
      "  (0, 89)\t0.3654385301531655\n",
      "  (0, 151)\t0.3654385301531655\n",
      "  (0, 163)\t0.2553091552538955\n",
      "  (0, 11)\t0.3654385301531655\n",
      "  (0, 136)\t0.3654385301531655\n",
      "  (1, 107)\t0.7071067811865476\n",
      "  (1, 193)\t0.7071067811865476\n",
      "  (2, 32)\t0.37796447300922725\n",
      "  (2, 172)\t0.37796447300922725\n",
      "  (2, 150)\t0.37796447300922725\n",
      "  (2, 178)\t0.37796447300922725\n",
      "  (2, 191)\t0.37796447300922725\n",
      "  (2, 23)\t0.37796447300922725\n",
      "  (2, 76)\t0.37796447300922725\n",
      "  (3, 99)\t0.46709059197956326\n",
      "  (3, 194)\t0.5605594846863304\n",
      "  (3, 36)\t0.5605594846863304\n",
      "  (3, 163)\t0.39162802139348063\n",
      "  (4, 144)\t0.5\n",
      "  (4, 55)\t0.5\n",
      "  (4, 101)\t0.5\n",
      "  (4, 156)\t0.5\n",
      "  :\t:\n",
      "  (42, 167)\t0.39196833884588356\n",
      "  (42, 52)\t0.39196833884588356\n",
      "  (42, 119)\t0.39196833884588356\n",
      "  (42, 205)\t0.35373656863087044\n",
      "  (42, 102)\t0.3266106959749644\n",
      "  (43, 160)\t0.3333333333333333\n",
      "  (43, 114)\t0.3333333333333333\n",
      "  (43, 60)\t0.3333333333333333\n",
      "  (43, 200)\t0.3333333333333333\n",
      "  (43, 66)\t0.3333333333333333\n",
      "  (43, 103)\t0.3333333333333333\n",
      "  (43, 162)\t0.3333333333333333\n",
      "  (43, 78)\t0.3333333333333333\n",
      "  (43, 87)\t0.3333333333333333\n",
      "  (44, 22)\t0.30151134457776363\n",
      "  (44, 86)\t0.30151134457776363\n",
      "  (44, 198)\t0.30151134457776363\n",
      "  (44, 48)\t0.30151134457776363\n",
      "  (44, 173)\t0.30151134457776363\n",
      "  (44, 96)\t0.30151134457776363\n",
      "  (44, 171)\t0.30151134457776363\n",
      "  (44, 21)\t0.30151134457776363\n",
      "  (44, 46)\t0.30151134457776363\n",
      "  (44, 92)\t0.30151134457776363\n",
      "  (44, 53)\t0.30151134457776363\n"
     ]
    }
   ],
   "source": [
    "from sklearn.feature_extraction.text import TfidfVectorizer\n",
    "\n",
    "vectorizer = TfidfVectorizer(stop_words = 'english')\n",
    "response_7 = vectorizer.fit_transform(stc_split_7)\n",
    "print(response_7)"
   ]
  },
  {
   "cell_type": "code",
   "execution_count": 72,
   "metadata": {},
   "outputs": [
    {
     "name": "stdout",
     "output_type": "stream",
     "text": [
      "  (0, 58)\t0.360319425084864\n",
      "  (0, 44)\t0.360319425084864\n",
      "  (0, 50)\t0.3019757992713848\n",
      "  (0, 18)\t0.360319425084864\n",
      "  (0, 51)\t0.360319425084864\n",
      "  (0, 17)\t0.360319425084864\n",
      "  (0, 35)\t0.360319425084864\n",
      "  (0, 10)\t0.360319425084864\n",
      "  (1, 13)\t0.5\n",
      "  (1, 57)\t0.5\n",
      "  (1, 0)\t0.5\n",
      "  (1, 56)\t0.5\n",
      "  (2, 55)\t0.408248290463863\n",
      "  (2, 26)\t0.408248290463863\n",
      "  (2, 29)\t0.408248290463863\n",
      "  (2, 27)\t0.408248290463863\n",
      "  (2, 19)\t0.408248290463863\n",
      "  (2, 4)\t0.408248290463863\n",
      "  (3, 21)\t0.26079920005985996\n",
      "  (3, 34)\t0.26079920005985996\n",
      "  (3, 41)\t0.26079920005985996\n",
      "  (3, 48)\t0.26079920005985996\n",
      "  (3, 52)\t0.26079920005985996\n",
      "  (3, 45)\t0.26079920005985996\n",
      "  (3, 42)\t0.26079920005985996\n",
      "  :\t:\n",
      "  (4, 31)\t0.31622776601683794\n",
      "  (4, 28)\t0.6324555320336759\n",
      "  (4, 25)\t0.31622776601683794\n",
      "  (4, 23)\t0.31622776601683794\n",
      "  (5, 14)\t0.29099415037043286\n",
      "  (5, 38)\t0.29099415037043286\n",
      "  (5, 30)\t0.29099415037043286\n",
      "  (5, 22)\t0.29099415037043286\n",
      "  (5, 2)\t0.29099415037043286\n",
      "  (5, 32)\t0.29099415037043286\n",
      "  (5, 43)\t0.4877516171697528\n",
      "  (5, 46)\t0.29099415037043286\n",
      "  (5, 15)\t0.29099415037043286\n",
      "  (5, 47)\t0.29099415037043286\n",
      "  (6, 16)\t0.30567500065450365\n",
      "  (6, 6)\t0.30567500065450365\n",
      "  (6, 53)\t0.30567500065450365\n",
      "  (6, 36)\t0.30567500065450365\n",
      "  (6, 7)\t0.30567500065450365\n",
      "  (6, 1)\t0.30567500065450365\n",
      "  (6, 24)\t0.30567500065450365\n",
      "  (6, 37)\t0.30567500065450365\n",
      "  (6, 8)\t0.30567500065450365\n",
      "  (6, 5)\t0.30567500065450365\n",
      "  (6, 43)\t0.2561795068866587\n"
     ]
    }
   ],
   "source": [
    "from sklearn.feature_extraction.text import TfidfVectorizer\n",
    "\n",
    "vectorizer = TfidfVectorizer(stop_words = 'english')\n",
    "response_8 = vectorizer.fit_transform(stc_split_8)\n",
    "print(response_8)"
   ]
  },
  {
   "cell_type": "code",
   "execution_count": 73,
   "metadata": {},
   "outputs": [
    {
     "name": "stdout",
     "output_type": "stream",
     "text": [
      "  (0, 60)\t0.2863095944056939\n",
      "  (0, 10)\t0.3320057416464264\n",
      "  (0, 87)\t0.2538876619671357\n",
      "  (0, 39)\t0.3320057416464264\n",
      "  (0, 85)\t0.3320057416464264\n",
      "  (0, 23)\t0.3320057416464264\n",
      "  (0, 42)\t0.2863095944056939\n",
      "  (0, 0)\t0.3320057416464264\n",
      "  (0, 48)\t0.3320057416464264\n",
      "  (0, 15)\t0.3320057416464264\n",
      "  (1, 83)\t0.31622776601683794\n",
      "  (1, 24)\t0.31622776601683794\n",
      "  (1, 50)\t0.31622776601683794\n",
      "  (1, 65)\t0.31622776601683794\n",
      "  (1, 56)\t0.31622776601683794\n",
      "  (1, 5)\t0.31622776601683794\n",
      "  (1, 43)\t0.31622776601683794\n",
      "  (1, 67)\t0.31622776601683794\n",
      "  (1, 89)\t0.31622776601683794\n",
      "  (1, 13)\t0.31622776601683794\n",
      "  (2, 58)\t0.28040423096209594\n",
      "  (2, 59)\t0.24181034110517274\n",
      "  (2, 53)\t0.28040423096209594\n",
      "  (2, 17)\t0.24181034110517274\n",
      "  (2, 47)\t0.28040423096209594\n",
      "  :\t:\n",
      "  (9, 42)\t0.24658071898979825\n",
      "  (10, 75)\t0.6340628633768814\n",
      "  (10, 59)\t0.5467925956367323\n",
      "  (10, 17)\t0.5467925956367323\n",
      "  (11, 9)\t0.22179301666037102\n",
      "  (11, 44)\t0.22179301666037102\n",
      "  (11, 6)\t0.22179301666037102\n",
      "  (11, 7)\t0.22179301666037102\n",
      "  (11, 82)\t0.22179301666037102\n",
      "  (11, 2)\t0.22179301666037102\n",
      "  (11, 4)\t0.22179301666037102\n",
      "  (11, 37)\t0.22179301666037102\n",
      "  (11, 73)\t0.22179301666037102\n",
      "  (11, 51)\t0.22179301666037102\n",
      "  (11, 12)\t0.22179301666037102\n",
      "  (11, 49)\t0.22179301666037102\n",
      "  (11, 84)\t0.22179301666037102\n",
      "  (11, 1)\t0.22179301666037102\n",
      "  (11, 8)\t0.22179301666037102\n",
      "  (11, 41)\t0.22179301666037102\n",
      "  (11, 88)\t0.22179301666037102\n",
      "  (11, 54)\t0.22179301666037102\n",
      "  (11, 66)\t0.22179301666037102\n",
      "  (11, 28)\t0.19126617608219806\n",
      "  (11, 87)\t0.1696070380026986\n"
     ]
    }
   ],
   "source": [
    "from sklearn.feature_extraction.text import TfidfVectorizer\n",
    "\n",
    "vectorizer = TfidfVectorizer(stop_words = 'english')\n",
    "response_9 = vectorizer.fit_transform(stc_split_9)\n",
    "print(response_9)"
   ]
  },
  {
   "cell_type": "code",
   "execution_count": 74,
   "metadata": {},
   "outputs": [
    {
     "name": "stdout",
     "output_type": "stream",
     "text": [
      "  (0, 25)\t0.4472135954999579\n",
      "  (0, 32)\t0.4472135954999579\n",
      "  (0, 9)\t0.4472135954999579\n",
      "  (0, 20)\t0.4472135954999579\n",
      "  (0, 19)\t0.4472135954999579\n",
      "  (1, 17)\t0.26824728370634454\n",
      "  (1, 16)\t0.3271251269713807\n",
      "  (1, 13)\t0.3271251269713807\n",
      "  (1, 33)\t0.3271251269713807\n",
      "  (1, 39)\t0.3271251269713807\n",
      "  (1, 31)\t0.26824728370634454\n",
      "  (1, 41)\t0.3271251269713807\n",
      "  (1, 34)\t0.3271251269713807\n",
      "  (1, 21)\t0.3271251269713807\n",
      "  (1, 38)\t0.3271251269713807\n",
      "  (2, 36)\t0.39699901178248725\n",
      "  (2, 2)\t0.39699901178248725\n",
      "  (2, 0)\t0.39699901178248725\n",
      "  (2, 27)\t0.39699901178248725\n",
      "  (2, 10)\t0.39699901178248725\n",
      "  (2, 17)\t0.32554486881123057\n",
      "  (2, 31)\t0.32554486881123057\n",
      "  (3, 26)\t0.2809119157765436\n",
      "  (3, 37)\t0.2809119157765436\n",
      "  (3, 4)\t0.2303517894374276\n",
      "  (3, 5)\t0.2809119157765436\n",
      "  (3, 28)\t0.2809119157765436\n",
      "  (3, 7)\t0.2809119157765436\n",
      "  (3, 1)\t0.2809119157765436\n",
      "  (3, 12)\t0.2809119157765436\n",
      "  (3, 3)\t0.2809119157765436\n",
      "  (3, 22)\t0.2809119157765436\n",
      "  (3, 15)\t0.2809119157765436\n",
      "  (3, 6)\t0.2809119157765436\n",
      "  (3, 8)\t0.2809119157765436\n",
      "  (4, 11)\t0.32153803186190544\n",
      "  (4, 23)\t0.32153803186190544\n",
      "  (4, 30)\t0.32153803186190544\n",
      "  (4, 40)\t0.32153803186190544\n",
      "  (4, 29)\t0.32153803186190544\n",
      "  (4, 18)\t0.32153803186190544\n",
      "  (4, 35)\t0.32153803186190544\n",
      "  (4, 24)\t0.32153803186190544\n",
      "  (4, 14)\t0.32153803186190544\n",
      "  (4, 4)\t0.2636657857920713\n"
     ]
    }
   ],
   "source": [
    "from sklearn.feature_extraction.text import TfidfVectorizer\n",
    "\n",
    "vectorizer = TfidfVectorizer(stop_words = 'english')\n",
    "response_10 = vectorizer.fit_transform(stc_split_10)\n",
    "print(response_10)"
   ]
  },
  {
   "cell_type": "code",
   "execution_count": 75,
   "metadata": {},
   "outputs": [
    {
     "name": "stdout",
     "output_type": "stream",
     "text": [
      "  (0, 48)\t0.4472135954999579\n",
      "  (0, 45)\t0.4472135954999579\n",
      "  (0, 32)\t0.4472135954999579\n",
      "  (0, 22)\t0.4472135954999579\n",
      "  (0, 47)\t0.4472135954999579\n",
      "  (1, 8)\t0.3600623796425964\n",
      "  (1, 11)\t0.3600623796425964\n",
      "  (1, 16)\t0.3600623796425964\n",
      "  (1, 5)\t0.3600623796425964\n",
      "  (1, 10)\t0.3600623796425964\n",
      "  (1, 1)\t0.3600623796425964\n",
      "  (1, 15)\t0.3600623796425964\n",
      "  (1, 25)\t0.30411441820929086\n",
      "  (2, 13)\t0.3600623796425964\n",
      "  (2, 6)\t0.3600623796425964\n",
      "  (2, 4)\t0.3600623796425964\n",
      "  (2, 2)\t0.3600623796425964\n",
      "  (2, 19)\t0.3600623796425964\n",
      "  (2, 30)\t0.3600623796425964\n",
      "  (2, 14)\t0.3600623796425964\n",
      "  (2, 25)\t0.30411441820929086\n",
      "  (3, 18)\t0.3779644730092272\n",
      "  (3, 40)\t0.3779644730092272\n",
      "  (3, 43)\t0.3779644730092272\n",
      "  (3, 33)\t0.3779644730092272\n",
      "  :\t:\n",
      "  (3, 12)\t0.3779644730092272\n",
      "  (3, 38)\t0.3779644730092272\n",
      "  (4, 28)\t0.5189380717981641\n",
      "  (4, 29)\t0.438303357179945\n",
      "  (4, 35)\t0.5189380717981641\n",
      "  (4, 23)\t0.5189380717981641\n",
      "  (5, 34)\t0.7071067811865476\n",
      "  (5, 17)\t0.7071067811865476\n",
      "  (6, 3)\t0.4183633143678389\n",
      "  (6, 42)\t0.4183633143678389\n",
      "  (6, 24)\t0.4183633143678389\n",
      "  (6, 9)\t0.4183633143678389\n",
      "  (6, 36)\t0.4183633143678389\n",
      "  (6, 29)\t0.35335631585664906\n",
      "  (7, 26)\t0.30151134457776363\n",
      "  (7, 0)\t0.30151134457776363\n",
      "  (7, 27)\t0.30151134457776363\n",
      "  (7, 46)\t0.30151134457776363\n",
      "  (7, 44)\t0.30151134457776363\n",
      "  (7, 31)\t0.30151134457776363\n",
      "  (7, 20)\t0.30151134457776363\n",
      "  (7, 7)\t0.30151134457776363\n",
      "  (7, 41)\t0.30151134457776363\n",
      "  (7, 21)\t0.30151134457776363\n",
      "  (7, 37)\t0.30151134457776363\n"
     ]
    }
   ],
   "source": [
    "from sklearn.feature_extraction.text import TfidfVectorizer\n",
    "\n",
    "vectorizer = TfidfVectorizer(stop_words = 'english')\n",
    "response_11 = vectorizer.fit_transform(stc_split_11)\n",
    "print(response_11)"
   ]
  },
  {
   "cell_type": "code",
   "execution_count": 76,
   "metadata": {},
   "outputs": [
    {
     "name": "stdout",
     "output_type": "stream",
     "text": [
      "  (0, 33)\t0.2581988897471611\n",
      "  (0, 46)\t0.2581988897471611\n",
      "  (0, 63)\t0.2581988897471611\n",
      "  (0, 10)\t0.2581988897471611\n",
      "  (0, 24)\t0.2581988897471611\n",
      "  (0, 40)\t0.2581988897471611\n",
      "  (0, 65)\t0.2581988897471611\n",
      "  (0, 29)\t0.2581988897471611\n",
      "  (0, 22)\t0.2581988897471611\n",
      "  (0, 50)\t0.2581988897471611\n",
      "  (0, 30)\t0.2581988897471611\n",
      "  (0, 13)\t0.2581988897471611\n",
      "  (0, 17)\t0.2581988897471611\n",
      "  (0, 64)\t0.2581988897471611\n",
      "  (0, 51)\t0.2581988897471611\n",
      "  (1, 62)\t0.7071067811865476\n",
      "  (1, 5)\t0.7071067811865476\n",
      "  (2, 53)\t0.5206467559864713\n",
      "  (2, 54)\t0.43218152024617124\n",
      "  (2, 27)\t0.5206467559864713\n",
      "  (2, 12)\t0.5206467559864713\n",
      "  (3, 9)\t0.20071057716315743\n",
      "  (3, 41)\t0.20071057716315743\n",
      "  (3, 52)\t0.20071057716315743\n",
      "  (3, 32)\t0.166607015928692\n",
      "  :\t:\n",
      "  (4, 55)\t0.26662280003155603\n",
      "  (4, 45)\t0.26662280003155603\n",
      "  (4, 31)\t0.26662280003155603\n",
      "  (4, 58)\t0.26662280003155603\n",
      "  (4, 36)\t0.26662280003155603\n",
      "  (4, 3)\t0.26662280003155603\n",
      "  (4, 1)\t0.26662280003155603\n",
      "  (4, 34)\t0.26662280003155603\n",
      "  (4, 61)\t0.26662280003155603\n",
      "  (4, 47)\t0.26662280003155603\n",
      "  (4, 18)\t0.26662280003155603\n",
      "  (4, 25)\t0.26662280003155603\n",
      "  (4, 32)\t0.2213198214048278\n",
      "  (4, 37)\t0.2213198214048278\n",
      "  (4, 11)\t0.2213198214048278\n",
      "  (5, 2)\t0.31622776601683794\n",
      "  (5, 42)\t0.31622776601683794\n",
      "  (5, 39)\t0.31622776601683794\n",
      "  (5, 38)\t0.31622776601683794\n",
      "  (5, 21)\t0.31622776601683794\n",
      "  (5, 8)\t0.31622776601683794\n",
      "  (5, 6)\t0.31622776601683794\n",
      "  (5, 16)\t0.31622776601683794\n",
      "  (5, 49)\t0.31622776601683794\n",
      "  (5, 60)\t0.31622776601683794\n"
     ]
    }
   ],
   "source": [
    "from sklearn.feature_extraction.text import TfidfVectorizer\n",
    "\n",
    "vectorizer = TfidfVectorizer(stop_words = 'english')\n",
    "response_12 = vectorizer.fit_transform(stc_split_12)\n",
    "print(response_12)"
   ]
  },
  {
   "cell_type": "code",
   "execution_count": 77,
   "metadata": {},
   "outputs": [
    {
     "name": "stdout",
     "output_type": "stream",
     "text": [
      "  (0, 33)\t0.5206467559864713\n",
      "  (0, 31)\t0.43218152024617124\n",
      "  (0, 14)\t0.5206467559864713\n",
      "  (0, 7)\t0.5206467559864713\n",
      "  (1, 42)\t0.31622776601683794\n",
      "  (1, 12)\t0.31622776601683794\n",
      "  (1, 34)\t0.31622776601683794\n",
      "  (1, 6)\t0.6324555320336759\n",
      "  (1, 36)\t0.31622776601683794\n",
      "  (1, 2)\t0.31622776601683794\n",
      "  (1, 25)\t0.31622776601683794\n",
      "  (2, 21)\t0.3058655725938405\n",
      "  (2, 20)\t0.3058655725938405\n",
      "  (2, 29)\t0.2538946927732447\n",
      "  (2, 38)\t0.3058655725938405\n",
      "  (2, 43)\t0.3058655725938405\n",
      "  (2, 23)\t0.3058655725938405\n",
      "  (2, 30)\t0.3058655725938405\n",
      "  (2, 11)\t0.3058655725938405\n",
      "  (2, 17)\t0.3058655725938405\n",
      "  (2, 44)\t0.3058655725938405\n",
      "  (2, 52)\t0.3058655725938405\n",
      "  (3, 46)\t0.2773500981126145\n",
      "  (3, 48)\t0.2773500981126145\n",
      "  (3, 5)\t0.2773500981126145\n",
      "  :\t:\n",
      "  (3, 19)\t0.2773500981126145\n",
      "  (3, 50)\t0.2773500981126145\n",
      "  (3, 49)\t0.2773500981126145\n",
      "  (3, 45)\t0.2773500981126145\n",
      "  (4, 32)\t0.3333333333333333\n",
      "  (4, 51)\t0.3333333333333333\n",
      "  (4, 22)\t0.3333333333333333\n",
      "  (4, 37)\t0.3333333333333333\n",
      "  (4, 3)\t0.3333333333333333\n",
      "  (4, 9)\t0.3333333333333333\n",
      "  (4, 47)\t0.3333333333333333\n",
      "  (4, 53)\t0.3333333333333333\n",
      "  (4, 27)\t0.3333333333333333\n",
      "  (5, 4)\t0.2964595264287402\n",
      "  (5, 8)\t0.2964595264287402\n",
      "  (5, 40)\t0.2964595264287402\n",
      "  (5, 0)\t0.2964595264287402\n",
      "  (5, 1)\t0.2964595264287402\n",
      "  (5, 16)\t0.2964595264287402\n",
      "  (5, 39)\t0.2964595264287402\n",
      "  (5, 15)\t0.2964595264287402\n",
      "  (5, 18)\t0.2964595264287402\n",
      "  (5, 35)\t0.2964595264287402\n",
      "  (5, 29)\t0.24608686667157909\n",
      "  (5, 31)\t0.24608686667157909\n"
     ]
    }
   ],
   "source": [
    "from sklearn.feature_extraction.text import TfidfVectorizer\n",
    "\n",
    "vectorizer = TfidfVectorizer(stop_words = 'english')\n",
    "response_13 = vectorizer.fit_transform(stc_split_13)\n",
    "print(response_13)"
   ]
  },
  {
   "cell_type": "code",
   "execution_count": 78,
   "metadata": {},
   "outputs": [
    {
     "name": "stdout",
     "output_type": "stream",
     "text": [
      "  (0, 27)\t0.37796447300922725\n",
      "  (0, 40)\t0.37796447300922725\n",
      "  (0, 16)\t0.37796447300922725\n",
      "  (0, 44)\t0.37796447300922725\n",
      "  (0, 21)\t0.37796447300922725\n",
      "  (0, 17)\t0.37796447300922725\n",
      "  (0, 31)\t0.37796447300922725\n",
      "  (1, 45)\t0.32036030845926267\n",
      "  (1, 46)\t0.32036030845926267\n",
      "  (1, 25)\t0.27626699925067927\n",
      "  (1, 49)\t0.32036030845926267\n",
      "  (1, 38)\t0.32036030845926267\n",
      "  (1, 11)\t0.6407206169185253\n",
      "  (1, 24)\t0.32036030845926267\n",
      "  (2, 1)\t0.4591374710855959\n",
      "  (2, 0)\t0.4591374710855959\n",
      "  (2, 29)\t0.4591374710855959\n",
      "  (2, 3)\t0.4591374710855959\n",
      "  (2, 25)\t0.39594334263944175\n",
      "  (3, 2)\t0.408248290463863\n",
      "  (3, 32)\t0.408248290463863\n",
      "  (3, 23)\t0.408248290463863\n",
      "  (3, 50)\t0.408248290463863\n",
      "  (3, 43)\t0.408248290463863\n",
      "  (3, 12)\t0.408248290463863\n",
      "  :\t:\n",
      "  (6, 28)\t0.3333333333333333\n",
      "  (6, 4)\t0.3333333333333333\n",
      "  (6, 14)\t0.3333333333333333\n",
      "  (6, 8)\t0.3333333333333333\n",
      "  (6, 42)\t0.3333333333333333\n",
      "  (6, 36)\t0.3333333333333333\n",
      "  (6, 18)\t0.3333333333333333\n",
      "  (6, 48)\t0.3333333333333333\n",
      "  (6, 15)\t0.3333333333333333\n",
      "  (7, 13)\t0.5\n",
      "  (7, 9)\t0.5\n",
      "  (7, 6)\t0.5\n",
      "  (7, 7)\t0.5\n",
      "  (8, 19)\t0.447213595499958\n",
      "  (8, 22)\t0.447213595499958\n",
      "  (8, 33)\t0.447213595499958\n",
      "  (8, 10)\t0.447213595499958\n",
      "  (8, 20)\t0.447213595499958\n",
      "  (11, 5)\t0.37796447300922725\n",
      "  (11, 51)\t0.37796447300922725\n",
      "  (11, 39)\t0.37796447300922725\n",
      "  (11, 37)\t0.37796447300922725\n",
      "  (11, 30)\t0.37796447300922725\n",
      "  (11, 26)\t0.37796447300922725\n",
      "  (11, 41)\t0.37796447300922725\n"
     ]
    }
   ],
   "source": [
    "from sklearn.feature_extraction.text import TfidfVectorizer\n",
    "\n",
    "vectorizer = TfidfVectorizer(stop_words = 'english')\n",
    "response_14 = vectorizer.fit_transform(stc_split_14)\n",
    "print(response_14)"
   ]
  },
  {
   "cell_type": "code",
   "execution_count": 79,
   "metadata": {},
   "outputs": [
    {
     "name": "stdout",
     "output_type": "stream",
     "text": [
      "  (0, 19)\t0.38775666010579296\n",
      "  (0, 6)\t0.38775666010579296\n",
      "  (0, 9)\t0.38775666010579296\n",
      "  (0, 21)\t0.3128396318588854\n",
      "  (0, 16)\t0.38775666010579296\n",
      "  (0, 14)\t0.38775666010579296\n",
      "  (0, 24)\t0.38775666010579296\n",
      "  (1, 0)\t0.29296784934087045\n",
      "  (1, 15)\t0.29296784934087045\n",
      "  (1, 38)\t0.29296784934087045\n",
      "  (1, 2)\t0.29296784934087045\n",
      "  (1, 18)\t0.29296784934087045\n",
      "  (1, 29)\t0.29296784934087045\n",
      "  (1, 12)\t0.29296784934087045\n",
      "  (1, 28)\t0.29296784934087045\n",
      "  (1, 1)\t0.29296784934087045\n",
      "  (1, 13)\t0.29296784934087045\n",
      "  (1, 27)\t0.29296784934087045\n",
      "  (1, 21)\t0.23636461617263152\n",
      "  (2, 32)\t0.35355339059327373\n",
      "  (2, 4)\t0.35355339059327373\n",
      "  (2, 26)\t0.35355339059327373\n",
      "  (2, 3)\t0.35355339059327373\n",
      "  (2, 10)\t0.35355339059327373\n",
      "  (2, 31)\t0.35355339059327373\n",
      "  (2, 37)\t0.35355339059327373\n",
      "  (2, 39)\t0.35355339059327373\n",
      "  (3, 17)\t0.26726124191242434\n",
      "  (3, 30)\t0.26726124191242434\n",
      "  (3, 22)\t0.26726124191242434\n",
      "  (3, 5)\t0.26726124191242434\n",
      "  (3, 20)\t0.26726124191242434\n",
      "  (3, 35)\t0.26726124191242434\n",
      "  (3, 36)\t0.26726124191242434\n",
      "  (3, 11)\t0.26726124191242434\n",
      "  (3, 23)\t0.26726124191242434\n",
      "  (3, 7)\t0.26726124191242434\n",
      "  (3, 34)\t0.26726124191242434\n",
      "  (3, 33)\t0.26726124191242434\n",
      "  (3, 25)\t0.26726124191242434\n",
      "  (3, 8)\t0.26726124191242434\n"
     ]
    }
   ],
   "source": [
    "from sklearn.feature_extraction.text import TfidfVectorizer\n",
    "\n",
    "vectorizer = TfidfVectorizer(stop_words = 'english')\n",
    "response_15 = vectorizer.fit_transform(stc_split_15)\n",
    "print(response_15)"
   ]
  },
  {
   "cell_type": "code",
   "execution_count": 80,
   "metadata": {},
   "outputs": [
    {
     "name": "stdout",
     "output_type": "stream",
     "text": [
      "  (0, 1)\t0.3218961114619563\n",
      "  (0, 18)\t0.3218961114619563\n",
      "  (0, 29)\t0.3218961114619563\n",
      "  (0, 39)\t0.3218961114619563\n",
      "  (0, 17)\t0.3218961114619563\n",
      "  (0, 20)\t0.3218961114619563\n",
      "  (0, 6)\t0.3218961114619563\n",
      "  (0, 13)\t0.2597037559047736\n",
      "  (0, 0)\t0.3218961114619563\n",
      "  (0, 2)\t0.3218961114619563\n",
      "  (1, 37)\t0.3064125284733739\n",
      "  (1, 3)\t0.3064125284733739\n",
      "  (1, 31)\t0.3064125284733739\n",
      "  (1, 36)\t0.3064125284733739\n",
      "  (1, 33)\t0.3064125284733739\n",
      "  (1, 16)\t0.3064125284733739\n",
      "  (1, 40)\t0.3064125284733739\n",
      "  (1, 22)\t0.3064125284733739\n",
      "  (1, 10)\t0.3064125284733739\n",
      "  (1, 14)\t0.3064125284733739\n",
      "  (1, 13)\t0.24721169864215167\n",
      "  (2, 27)\t0.3162277660168379\n",
      "  (2, 26)\t0.3162277660168379\n",
      "  (2, 28)\t0.3162277660168379\n",
      "  (2, 25)\t0.3162277660168379\n",
      "  (2, 11)\t0.3162277660168379\n",
      "  (2, 15)\t0.3162277660168379\n",
      "  (2, 12)\t0.3162277660168379\n",
      "  (2, 24)\t0.3162277660168379\n",
      "  (2, 23)\t0.3162277660168379\n",
      "  (2, 34)\t0.3162277660168379\n",
      "  (3, 9)\t0.3015113445777636\n",
      "  (3, 38)\t0.3015113445777636\n",
      "  (3, 30)\t0.3015113445777636\n",
      "  (3, 32)\t0.3015113445777636\n",
      "  (3, 21)\t0.3015113445777636\n",
      "  (3, 8)\t0.3015113445777636\n",
      "  (3, 35)\t0.3015113445777636\n",
      "  (3, 4)\t0.3015113445777636\n",
      "  (3, 7)\t0.3015113445777636\n",
      "  (3, 5)\t0.3015113445777636\n",
      "  (3, 19)\t0.3015113445777636\n"
     ]
    }
   ],
   "source": [
    "from sklearn.feature_extraction.text import TfidfVectorizer\n",
    "\n",
    "vectorizer = TfidfVectorizer(stop_words = 'english')\n",
    "response_16 = vectorizer.fit_transform(stc_split_16)\n",
    "print(response_16)"
   ]
  },
  {
   "cell_type": "code",
   "execution_count": 81,
   "metadata": {},
   "outputs": [
    {
     "name": "stdout",
     "output_type": "stream",
     "text": [
      "  (0, 132)\t0.4561416515859762\n",
      "  (0, 73)\t0.4561416515859762\n",
      "  (0, 88)\t0.4561416515859762\n",
      "  (0, 35)\t0.40955973282742497\n",
      "  (0, 37)\t0.4561416515859762\n",
      "  (1, 79)\t0.5969552878758664\n",
      "  (1, 142)\t0.5969552878758664\n",
      "  (1, 62)\t0.5359932542057623\n",
      "  (5, 120)\t1.0\n",
      "  (6, 39)\t0.5773502691896257\n",
      "  (6, 72)\t0.5773502691896257\n",
      "  (6, 84)\t0.5773502691896257\n",
      "  (7, 26)\t1.0\n",
      "  (8, 82)\t1.0\n",
      "  (9, 126)\t0.4354820240550031\n",
      "  (9, 101)\t0.4354820240550031\n",
      "  (9, 112)\t0.4354820240550031\n",
      "  (9, 135)\t0.3594564252728488\n",
      "  (9, 99)\t0.3349816490942389\n",
      "  (9, 156)\t0.4354820240550031\n",
      "  (10, 8)\t0.6632820388310707\n",
      "  (10, 135)\t0.547487559660534\n",
      "  (10, 99)\t0.5102100635826887\n",
      "  (11, 56)\t0.771213509080662\n",
      "  (11, 135)\t0.6365765652390071\n",
      "  :\t:\n",
      "  (34, 14)\t0.30151134457776363\n",
      "  (34, 93)\t0.30151134457776363\n",
      "  (34, 38)\t0.30151134457776363\n",
      "  (34, 44)\t0.30151134457776363\n",
      "  (34, 89)\t0.30151134457776363\n",
      "  (34, 138)\t0.30151134457776363\n",
      "  (34, 91)\t0.30151134457776363\n",
      "  (35, 71)\t0.512572165380471\n",
      "  (35, 11)\t0.512572165380471\n",
      "  (35, 152)\t0.46022747183487983\n",
      "  (35, 128)\t0.512572165380471\n",
      "  (36, 66)\t0.271039824855314\n",
      "  (36, 111)\t0.271039824855314\n",
      "  (36, 83)\t0.271039824855314\n",
      "  (36, 145)\t0.271039824855314\n",
      "  (36, 70)\t0.271039824855314\n",
      "  (36, 31)\t0.271039824855314\n",
      "  (36, 141)\t0.271039824855314\n",
      "  (36, 23)\t0.271039824855314\n",
      "  (36, 3)\t0.271039824855314\n",
      "  (36, 34)\t0.271039824855314\n",
      "  (36, 33)\t0.271039824855314\n",
      "  (36, 7)\t0.271039824855314\n",
      "  (36, 152)\t0.24336080221433412\n",
      "  (36, 27)\t0.24336080221433412\n"
     ]
    }
   ],
   "source": [
    "from sklearn.feature_extraction.text import TfidfVectorizer\n",
    "\n",
    "vectorizer = TfidfVectorizer(stop_words = 'english')\n",
    "response_17 = vectorizer.fit_transform(stc_split_17)\n",
    "print(response_17)"
   ]
  },
  {
   "cell_type": "code",
   "execution_count": 82,
   "metadata": {},
   "outputs": [
    {
     "name": "stdout",
     "output_type": "stream",
     "text": [
      "  (0, 12)\t0.34574015701482363\n",
      "  (0, 41)\t0.34574015701482363\n",
      "  (0, 69)\t0.34574015701482363\n",
      "  (0, 13)\t0.34574015701482363\n",
      "  (0, 40)\t0.34574015701482363\n",
      "  (0, 19)\t0.26942048648458755\n",
      "  (0, 47)\t0.301096011687242\n",
      "  (0, 0)\t0.34574015701482363\n",
      "  (0, 33)\t0.34574015701482363\n",
      "  (1, 23)\t0.2916255003706084\n",
      "  (1, 14)\t0.2916255003706084\n",
      "  (1, 18)\t0.2916255003706084\n",
      "  (1, 65)\t0.2916255003706084\n",
      "  (1, 45)\t0.2916255003706084\n",
      "  (1, 8)\t0.2916255003706084\n",
      "  (1, 30)\t0.2916255003706084\n",
      "  (1, 2)\t0.253968980132446\n",
      "  (1, 31)\t0.2916255003706084\n",
      "  (1, 27)\t0.2916255003706084\n",
      "  (1, 36)\t0.2916255003706084\n",
      "  (1, 60)\t0.2916255003706084\n",
      "  (2, 4)\t0.32676139653460473\n",
      "  (2, 53)\t0.32676139653460473\n",
      "  (2, 20)\t0.32676139653460473\n",
      "  (2, 3)\t0.32676139653460473\n",
      "  :\t:\n",
      "  (9, 57)\t0.7071067811865476\n",
      "  (9, 44)\t0.7071067811865476\n",
      "  (10, 29)\t0.7071067811865476\n",
      "  (10, 1)\t0.7071067811865476\n",
      "  (12, 28)\t0.3590156070501844\n",
      "  (12, 21)\t0.31265725205200817\n",
      "  (12, 26)\t0.3590156070501844\n",
      "  (12, 66)\t0.3590156070501844\n",
      "  (12, 17)\t0.3590156070501844\n",
      "  (12, 52)\t0.3590156070501844\n",
      "  (12, 62)\t0.3590156070501844\n",
      "  (12, 59)\t0.3590156070501844\n",
      "  (13, 68)\t0.4257500680720407\n",
      "  (13, 55)\t0.4257500680720407\n",
      "  (13, 50)\t0.4257500680720407\n",
      "  (13, 34)\t0.4257500680720407\n",
      "  (13, 21)\t0.37077453940812266\n",
      "  (13, 47)\t0.37077453940812266\n",
      "  (14, 25)\t0.37796447300922725\n",
      "  (14, 49)\t0.37796447300922725\n",
      "  (14, 22)\t0.37796447300922725\n",
      "  (14, 16)\t0.37796447300922725\n",
      "  (14, 32)\t0.37796447300922725\n",
      "  (14, 51)\t0.37796447300922725\n",
      "  (14, 24)\t0.37796447300922725\n"
     ]
    }
   ],
   "source": [
    "from sklearn.feature_extraction.text import TfidfVectorizer\n",
    "\n",
    "vectorizer = TfidfVectorizer(stop_words = 'english')\n",
    "response_18 = vectorizer.fit_transform(stc_split_18)\n",
    "print(response_18)"
   ]
  },
  {
   "cell_type": "code",
   "execution_count": 83,
   "metadata": {},
   "outputs": [
    {
     "name": "stdout",
     "output_type": "stream",
     "text": [
      "  (0, 21)\t0.5773502691896257\n",
      "  (0, 8)\t0.5773502691896257\n",
      "  (0, 31)\t0.5773502691896257\n",
      "  (1, 0)\t1.0\n",
      "  (2, 24)\t0.33924545471409917\n",
      "  (2, 18)\t0.33924545471409917\n",
      "  (2, 35)\t0.28160286157387054\n",
      "  (2, 42)\t0.33924545471409917\n",
      "  (2, 16)\t0.33924545471409917\n",
      "  (2, 39)\t0.33924545471409917\n",
      "  (2, 29)\t0.33924545471409917\n",
      "  (2, 40)\t0.33924545471409917\n",
      "  (2, 13)\t0.33924545471409917\n",
      "  (3, 41)\t0.3015113445777636\n",
      "  (3, 19)\t0.3015113445777636\n",
      "  (3, 25)\t0.3015113445777636\n",
      "  (3, 44)\t0.3015113445777636\n",
      "  (3, 3)\t0.3015113445777636\n",
      "  (3, 10)\t0.3015113445777636\n",
      "  (3, 28)\t0.3015113445777636\n",
      "  (3, 11)\t0.3015113445777636\n",
      "  (3, 30)\t0.3015113445777636\n",
      "  (3, 5)\t0.3015113445777636\n",
      "  (3, 34)\t0.3015113445777636\n",
      "  (4, 6)\t0.2637238909271145\n",
      "  (4, 27)\t0.2637238909271145\n",
      "  (4, 2)\t0.2637238909271145\n",
      "  (4, 1)\t0.2637238909271145\n",
      "  (4, 20)\t0.2637238909271145\n",
      "  (4, 22)\t0.2637238909271145\n",
      "  (4, 45)\t0.2637238909271145\n",
      "  (4, 38)\t0.2637238909271145\n",
      "  (4, 23)\t0.2637238909271145\n",
      "  (4, 26)\t0.21891347789186535\n",
      "  (4, 4)\t0.2637238909271145\n",
      "  (4, 46)\t0.2637238909271145\n",
      "  (4, 7)\t0.2637238909271145\n",
      "  (4, 32)\t0.2637238909271145\n",
      "  (4, 35)\t0.21891347789186535\n",
      "  (5, 9)\t0.30586557259384056\n",
      "  (5, 12)\t0.30586557259384056\n",
      "  (5, 47)\t0.30586557259384056\n",
      "  (5, 15)\t0.30586557259384056\n",
      "  (5, 43)\t0.30586557259384056\n",
      "  (5, 17)\t0.30586557259384056\n",
      "  (5, 33)\t0.30586557259384056\n",
      "  (5, 14)\t0.30586557259384056\n",
      "  (5, 36)\t0.30586557259384056\n",
      "  (5, 37)\t0.30586557259384056\n",
      "  (5, 26)\t0.2538946927732448\n"
     ]
    }
   ],
   "source": [
    "from sklearn.feature_extraction.text import TfidfVectorizer\n",
    "\n",
    "vectorizer = TfidfVectorizer(stop_words = 'english')\n",
    "response_19 = vectorizer.fit_transform(stc_split_19)\n",
    "print(response_19)"
   ]
  },
  {
   "cell_type": "code",
   "execution_count": 84,
   "metadata": {},
   "outputs": [
    {
     "name": "stdout",
     "output_type": "stream",
     "text": [
      "  (0, 17)\t0.6012614448371174\n",
      "  (0, 31)\t0.5262787758448597\n",
      "  (0, 24)\t0.6012614448371174\n",
      "  (1, 12)\t0.5\n",
      "  (1, 33)\t0.5\n",
      "  (1, 28)\t0.5\n",
      "  (1, 40)\t0.5\n",
      "  (2, 42)\t0.5773502691896258\n",
      "  (2, 43)\t0.5773502691896258\n",
      "  (2, 45)\t0.5773502691896258\n",
      "  (3, 9)\t0.30151134457776363\n",
      "  (3, 41)\t0.30151134457776363\n",
      "  (3, 13)\t0.30151134457776363\n",
      "  (3, 34)\t0.30151134457776363\n",
      "  (3, 37)\t0.30151134457776363\n",
      "  (3, 29)\t0.30151134457776363\n",
      "  (3, 36)\t0.30151134457776363\n",
      "  (3, 8)\t0.30151134457776363\n",
      "  (3, 21)\t0.30151134457776363\n",
      "  (3, 25)\t0.30151134457776363\n",
      "  (3, 18)\t0.30151134457776363\n",
      "  (4, 3)\t0.3535533905932738\n",
      "  (4, 26)\t0.3535533905932738\n",
      "  (4, 14)\t0.3535533905932738\n",
      "  (4, 15)\t0.3535533905932738\n",
      "  :\t:\n",
      "  (4, 22)\t0.3535533905932738\n",
      "  (4, 16)\t0.3535533905932738\n",
      "  (5, 10)\t0.7071067811865475\n",
      "  (5, 19)\t0.7071067811865475\n",
      "  (6, 32)\t0.7071067811865475\n",
      "  (6, 27)\t0.7071067811865475\n",
      "  (7, 4)\t1.0\n",
      "  (8, 38)\t0.4141338047984883\n",
      "  (8, 39)\t0.3624876228083533\n",
      "  (8, 20)\t0.3624876228083533\n",
      "  (8, 30)\t0.3624876228083533\n",
      "  (8, 23)\t0.3624876228083533\n",
      "  (8, 35)\t0.4141338047984883\n",
      "  (8, 31)\t0.3624876228083533\n",
      "  (9, 6)\t1.0\n",
      "  (10, 5)\t1.0\n",
      "  (11, 11)\t0.7071067811865476\n",
      "  (11, 23)\t0.7071067811865476\n",
      "  (12, 2)\t1.0\n",
      "  (13, 11)\t0.5773502691896257\n",
      "  (13, 39)\t0.5773502691896257\n",
      "  (13, 20)\t0.5773502691896257\n",
      "  (14, 0)\t1.0\n",
      "  (15, 44)\t0.7524681416357296\n",
      "  (15, 30)\t0.6586286478914134\n"
     ]
    }
   ],
   "source": [
    "from sklearn.feature_extraction.text import TfidfVectorizer\n",
    "\n",
    "vectorizer = TfidfVectorizer(stop_words = 'english')\n",
    "response_20 = vectorizer.fit_transform(stc_split_20)\n",
    "print(response_20)"
   ]
  },
  {
   "cell_type": "code",
   "execution_count": 85,
   "metadata": {},
   "outputs": [
    {
     "name": "stdout",
     "output_type": "stream",
     "text": [
      "  (0, 56)\t0.38466031138192547\n",
      "  (0, 37)\t0.38466031138192547\n",
      "  (0, 28)\t0.33499055074040646\n",
      "  (0, 15)\t0.38466031138192547\n",
      "  (0, 19)\t0.38466031138192547\n",
      "  (0, 39)\t0.38466031138192547\n",
      "  (0, 47)\t0.38466031138192547\n",
      "  (1, 21)\t0.5773502691896257\n",
      "  (1, 24)\t0.5773502691896257\n",
      "  (1, 0)\t0.5773502691896257\n",
      "  (2, 53)\t0.5\n",
      "  (2, 13)\t0.5\n",
      "  (2, 52)\t0.5\n",
      "  (2, 45)\t0.5\n",
      "  (3, 1)\t0.5773502691896257\n",
      "  (3, 22)\t0.5773502691896257\n",
      "  (3, 20)\t0.5773502691896257\n",
      "  (4, 49)\t0.7071067811865476\n",
      "  (4, 42)\t0.7071067811865476\n",
      "  (6, 11)\t0.4257500680720407\n",
      "  (6, 3)\t0.37077453940812266\n",
      "  (6, 4)\t0.4257500680720407\n",
      "  (6, 43)\t0.4257500680720407\n",
      "  (6, 31)\t0.4257500680720407\n",
      "  (6, 28)\t0.37077453940812266\n",
      "  :\t:\n",
      "  (10, 14)\t0.7071067811865476\n",
      "  (10, 55)\t0.7071067811865476\n",
      "  (11, 32)\t0.5158189420093537\n",
      "  (11, 44)\t0.5158189420093537\n",
      "  (11, 38)\t0.5158189420093537\n",
      "  (11, 50)\t0.44921315340610035\n",
      "  (12, 60)\t0.3590156070501845\n",
      "  (12, 48)\t0.3590156070501845\n",
      "  (12, 57)\t0.3590156070501845\n",
      "  (12, 58)\t0.3590156070501845\n",
      "  (12, 23)\t0.3590156070501845\n",
      "  (12, 25)\t0.3590156070501845\n",
      "  (12, 16)\t0.3590156070501845\n",
      "  (12, 50)\t0.3126572520520082\n",
      "  (13, 51)\t0.4472135954999579\n",
      "  (13, 10)\t0.4472135954999579\n",
      "  (13, 33)\t0.4472135954999579\n",
      "  (13, 36)\t0.4472135954999579\n",
      "  (13, 8)\t0.4472135954999579\n",
      "  (14, 30)\t0.4082482904638631\n",
      "  (14, 17)\t0.4082482904638631\n",
      "  (14, 34)\t0.4082482904638631\n",
      "  (14, 26)\t0.4082482904638631\n",
      "  (14, 7)\t0.4082482904638631\n",
      "  (14, 41)\t0.4082482904638631\n"
     ]
    }
   ],
   "source": [
    "from sklearn.feature_extraction.text import TfidfVectorizer\n",
    "\n",
    "vectorizer = TfidfVectorizer(stop_words = 'english')\n",
    "response_21 = vectorizer.fit_transform(stc_split_21)\n",
    "print(response_21)"
   ]
  },
  {
   "cell_type": "code",
   "execution_count": 86,
   "metadata": {},
   "outputs": [
    {
     "name": "stdout",
     "output_type": "stream",
     "text": [
      "  (0, 28)\t0.3779644730092272\n",
      "  (0, 31)\t0.3779644730092272\n",
      "  (0, 33)\t0.3779644730092272\n",
      "  (0, 26)\t0.3779644730092272\n",
      "  (0, 51)\t0.3779644730092272\n",
      "  (0, 35)\t0.3779644730092272\n",
      "  (0, 42)\t0.3779644730092272\n",
      "  (1, 17)\t0.5\n",
      "  (1, 23)\t0.5\n",
      "  (1, 13)\t0.5\n",
      "  (1, 14)\t0.5\n",
      "  (2, 1)\t0.6484979474798607\n",
      "  (2, 6)\t0.6484979474798607\n",
      "  (2, 39)\t0.3986236624045486\n",
      "  (3, 20)\t0.7071067811865475\n",
      "  (3, 25)\t0.7071067811865475\n",
      "  (4, 9)\t0.3779644730092272\n",
      "  (4, 19)\t0.3779644730092272\n",
      "  (4, 32)\t0.3779644730092272\n",
      "  (4, 44)\t0.3779644730092272\n",
      "  (4, 12)\t0.3779644730092272\n",
      "  (4, 43)\t0.3779644730092272\n",
      "  (4, 4)\t0.3779644730092272\n",
      "  (5, 49)\t0.7071067811865475\n",
      "  (5, 47)\t0.7071067811865475\n",
      "  :\t:\n",
      "  (11, 5)\t0.47793629666041243\n",
      "  (11, 50)\t0.47793629666041243\n",
      "  (11, 38)\t0.47793629666041243\n",
      "  (11, 45)\t0.47793629666041243\n",
      "  (11, 39)\t0.2937815265433157\n",
      "  (12, 24)\t0.47793629666041243\n",
      "  (12, 22)\t0.47793629666041243\n",
      "  (12, 36)\t0.47793629666041243\n",
      "  (12, 18)\t0.47793629666041243\n",
      "  (12, 39)\t0.2937815265433157\n",
      "  (13, 37)\t0.8519232441259712\n",
      "  (13, 39)\t0.5236666746298457\n",
      "  (14, 29)\t0.43121715121755044\n",
      "  (14, 3)\t0.43121715121755044\n",
      "  (14, 27)\t0.43121715121755044\n",
      "  (14, 11)\t0.43121715121755044\n",
      "  (14, 10)\t0.43121715121755044\n",
      "  (14, 39)\t0.26506384604298877\n",
      "  (15, 30)\t0.6484979474798607\n",
      "  (15, 0)\t0.6484979474798607\n",
      "  (15, 39)\t0.3986236624045486\n",
      "  (16, 21)\t0.5\n",
      "  (16, 46)\t0.5\n",
      "  (16, 16)\t0.5\n",
      "  (16, 40)\t0.5\n"
     ]
    }
   ],
   "source": [
    "from sklearn.feature_extraction.text import TfidfVectorizer\n",
    "\n",
    "vectorizer = TfidfVectorizer(stop_words = 'english')\n",
    "response_22 = vectorizer.fit_transform(stc_split_22)\n",
    "print(response_22)"
   ]
  },
  {
   "cell_type": "code",
   "execution_count": 87,
   "metadata": {},
   "outputs": [
    {
     "name": "stdout",
     "output_type": "stream",
     "text": [
      "  (0, 41)\t0.3779644730092272\n",
      "  (0, 20)\t0.3779644730092272\n",
      "  (0, 33)\t0.3779644730092272\n",
      "  (0, 22)\t0.3779644730092272\n",
      "  (0, 27)\t0.3779644730092272\n",
      "  (0, 40)\t0.3779644730092272\n",
      "  (0, 19)\t0.3779644730092272\n",
      "  (1, 23)\t0.2773500981126145\n",
      "  (1, 11)\t0.2773500981126145\n",
      "  (1, 28)\t0.2773500981126145\n",
      "  (1, 29)\t0.2773500981126145\n",
      "  (1, 16)\t0.2773500981126145\n",
      "  (1, 2)\t0.2773500981126145\n",
      "  (1, 8)\t0.2773500981126145\n",
      "  (1, 18)\t0.2773500981126145\n",
      "  (1, 0)\t0.2773500981126145\n",
      "  (1, 7)\t0.2773500981126145\n",
      "  (1, 34)\t0.2773500981126145\n",
      "  (1, 39)\t0.2773500981126145\n",
      "  (1, 35)\t0.2773500981126145\n",
      "  (2, 12)\t0.28867513459481287\n",
      "  (2, 24)\t0.28867513459481287\n",
      "  (2, 1)\t0.28867513459481287\n",
      "  (2, 9)\t0.28867513459481287\n",
      "  (2, 10)\t0.28867513459481287\n",
      "  (2, 36)\t0.28867513459481287\n",
      "  (2, 13)\t0.28867513459481287\n",
      "  (2, 31)\t0.28867513459481287\n",
      "  (2, 37)\t0.28867513459481287\n",
      "  (2, 26)\t0.28867513459481287\n",
      "  (2, 14)\t0.28867513459481287\n",
      "  (2, 30)\t0.28867513459481287\n",
      "  (3, 4)\t0.3162277660168379\n",
      "  (3, 6)\t0.3162277660168379\n",
      "  (3, 25)\t0.3162277660168379\n",
      "  (3, 32)\t0.3162277660168379\n",
      "  (3, 3)\t0.3162277660168379\n",
      "  (3, 38)\t0.3162277660168379\n",
      "  (3, 5)\t0.3162277660168379\n",
      "  (3, 15)\t0.3162277660168379\n",
      "  (3, 21)\t0.3162277660168379\n",
      "  (3, 17)\t0.3162277660168379\n"
     ]
    }
   ],
   "source": [
    "from sklearn.feature_extraction.text import TfidfVectorizer\n",
    "\n",
    "vectorizer = TfidfVectorizer(stop_words = 'english')\n",
    "response_23 = vectorizer.fit_transform(stc_split_23)\n",
    "print(response_23)"
   ]
  },
  {
   "cell_type": "code",
   "execution_count": 88,
   "metadata": {},
   "outputs": [
    {
     "name": "stdout",
     "output_type": "stream",
     "text": [
      "  (0, 9)\t0.4472135954999579\n",
      "  (0, 3)\t0.4472135954999579\n",
      "  (0, 18)\t0.4472135954999579\n",
      "  (0, 25)\t0.4472135954999579\n",
      "  (0, 22)\t0.4472135954999579\n",
      "  (1, 21)\t0.761904967498719\n",
      "  (1, 19)\t0.6476888299953735\n",
      "  (2, 26)\t1.0\n",
      "  (3, 19)\t1.0\n",
      "  (4, 20)\t0.3598459955665589\n",
      "  (4, 6)\t0.3598459955665589\n",
      "  (4, 15)\t0.3059019717539992\n",
      "  (4, 11)\t0.3598459955665589\n",
      "  (4, 0)\t0.3598459955665589\n",
      "  (4, 24)\t0.3598459955665589\n",
      "  (4, 14)\t0.3598459955665589\n",
      "  (4, 12)\t0.3598459955665589\n",
      "  (5, 1)\t0.3598459955665589\n",
      "  (5, 13)\t0.3598459955665589\n",
      "  (5, 17)\t0.3598459955665589\n",
      "  (5, 4)\t0.3598459955665589\n",
      "  (5, 5)\t0.3598459955665589\n",
      "  (5, 10)\t0.3598459955665589\n",
      "  (5, 2)\t0.3598459955665589\n",
      "  (5, 15)\t0.3059019717539992\n",
      "  (9, 8)\t0.5\n",
      "  (9, 23)\t0.5\n",
      "  (9, 16)\t0.5\n",
      "  (9, 7)\t0.5\n"
     ]
    }
   ],
   "source": [
    "from sklearn.feature_extraction.text import TfidfVectorizer\n",
    "\n",
    "vectorizer = TfidfVectorizer(stop_words = 'english')\n",
    "response_24 = vectorizer.fit_transform(stc_split_24)\n",
    "print(response_24)"
   ]
  },
  {
   "cell_type": "code",
   "execution_count": 89,
   "metadata": {},
   "outputs": [
    {
     "name": "stdout",
     "output_type": "stream",
     "text": [
      "  (0, 80)\t0.3162277660168379\n",
      "  (0, 33)\t0.3162277660168379\n",
      "  (0, 14)\t0.3162277660168379\n",
      "  (0, 5)\t0.3162277660168379\n",
      "  (0, 25)\t0.3162277660168379\n",
      "  (0, 55)\t0.3162277660168379\n",
      "  (0, 29)\t0.3162277660168379\n",
      "  (0, 15)\t0.3162277660168379\n",
      "  (0, 39)\t0.3162277660168379\n",
      "  (0, 70)\t0.3162277660168379\n",
      "  (1, 34)\t0.28700427404821893\n",
      "  (1, 66)\t0.24240837910473068\n",
      "  (1, 45)\t0.28700427404821893\n",
      "  (1, 28)\t0.28700427404821893\n",
      "  (1, 13)\t0.28700427404821893\n",
      "  (1, 21)\t0.28700427404821893\n",
      "  (1, 9)\t0.28700427404821893\n",
      "  (1, 30)\t0.28700427404821893\n",
      "  (1, 72)\t0.24240837910473068\n",
      "  (1, 71)\t0.28700427404821893\n",
      "  (1, 64)\t0.28700427404821893\n",
      "  (1, 63)\t0.24240837910473068\n",
      "  (1, 40)\t0.28700427404821893\n",
      "  (2, 53)\t0.25460255029544504\n",
      "  (2, 77)\t0.25460255029544504\n",
      "  :\t:\n",
      "  (5, 54)\t0.21323157721163238\n",
      "  (5, 38)\t0.21323157721163238\n",
      "  (5, 6)\t0.21323157721163238\n",
      "  (5, 11)\t0.21323157721163238\n",
      "  (5, 0)\t0.18009878486037065\n",
      "  (5, 63)\t0.18009878486037065\n",
      "  (6, 12)\t0.3387714251337661\n",
      "  (6, 27)\t0.3387714251337661\n",
      "  (6, 84)\t0.3387714251337661\n",
      "  (6, 82)\t0.3387714251337661\n",
      "  (6, 46)\t0.3387714251337661\n",
      "  (6, 56)\t0.3387714251337661\n",
      "  (6, 49)\t0.3387714251337661\n",
      "  (6, 42)\t0.3387714251337661\n",
      "  (6, 44)\t0.28613173906908057\n",
      "  (7, 32)\t0.3208594972084965\n",
      "  (7, 58)\t0.3208594972084965\n",
      "  (7, 47)\t0.3208594972084965\n",
      "  (7, 22)\t0.3208594972084965\n",
      "  (7, 36)\t0.3208594972084965\n",
      "  (7, 23)\t0.3208594972084965\n",
      "  (7, 52)\t0.3208594972084965\n",
      "  (7, 67)\t0.3208594972084965\n",
      "  (7, 65)\t0.3208594972084965\n",
      "  (7, 20)\t0.27100303957704486\n"
     ]
    }
   ],
   "source": [
    "from sklearn.feature_extraction.text import TfidfVectorizer\n",
    "\n",
    "vectorizer = TfidfVectorizer(stop_words = 'english')\n",
    "response_25 = vectorizer.fit_transform(stc_split_25)\n",
    "print(response_25)"
   ]
  },
  {
   "cell_type": "code",
   "execution_count": 90,
   "metadata": {},
   "outputs": [
    {
     "name": "stdout",
     "output_type": "stream",
     "text": [
      "  (0, 12)\t0.5773502691896257\n",
      "  (0, 2)\t0.5773502691896257\n",
      "  (0, 41)\t0.5773502691896257\n",
      "  (1, 9)\t0.7071067811865476\n",
      "  (1, 31)\t0.7071067811865476\n",
      "  (2, 28)\t0.408248290463863\n",
      "  (2, 42)\t0.408248290463863\n",
      "  (2, 16)\t0.408248290463863\n",
      "  (2, 23)\t0.408248290463863\n",
      "  (2, 3)\t0.408248290463863\n",
      "  (2, 19)\t0.408248290463863\n",
      "  (3, 35)\t0.18898223650461365\n",
      "  (3, 7)\t0.18898223650461365\n",
      "  (3, 22)\t0.18898223650461365\n",
      "  (3, 29)\t0.18898223650461365\n",
      "  (3, 13)\t0.18898223650461365\n",
      "  (3, 33)\t0.18898223650461365\n",
      "  (3, 5)\t0.18898223650461365\n",
      "  (3, 20)\t0.18898223650461365\n",
      "  (3, 40)\t0.18898223650461365\n",
      "  (3, 37)\t0.18898223650461365\n",
      "  (3, 25)\t0.18898223650461365\n",
      "  (3, 8)\t0.18898223650461365\n",
      "  (3, 14)\t0.18898223650461365\n",
      "  (3, 30)\t0.18898223650461365\n",
      "  (3, 38)\t0.18898223650461365\n",
      "  (3, 1)\t0.18898223650461365\n",
      "  (3, 10)\t0.18898223650461365\n",
      "  (3, 6)\t0.18898223650461365\n",
      "  (3, 36)\t0.18898223650461365\n",
      "  (3, 17)\t0.18898223650461365\n",
      "  (3, 27)\t0.18898223650461365\n",
      "  (3, 32)\t0.18898223650461365\n",
      "  (3, 18)\t0.18898223650461365\n",
      "  (3, 26)\t0.18898223650461365\n",
      "  (3, 24)\t0.18898223650461365\n",
      "  (3, 11)\t0.18898223650461365\n",
      "  (3, 39)\t0.18898223650461365\n",
      "  (3, 4)\t0.18898223650461365\n",
      "  (4, 0)\t0.5\n",
      "  (4, 21)\t0.5\n",
      "  (4, 15)\t0.5\n",
      "  (4, 34)\t0.5\n"
     ]
    }
   ],
   "source": [
    "from sklearn.feature_extraction.text import TfidfVectorizer\n",
    "\n",
    "vectorizer = TfidfVectorizer(stop_words = 'english')\n",
    "response_26 = vectorizer.fit_transform(stc_split_26)\n",
    "print(response_26)"
   ]
  },
  {
   "cell_type": "code",
   "execution_count": 91,
   "metadata": {},
   "outputs": [
    {
     "name": "stdout",
     "output_type": "stream",
     "text": [
      "  (0, 47)\t0.5773502691896258\n",
      "  (0, 41)\t0.5773502691896258\n",
      "  (0, 44)\t0.5773502691896258\n",
      "  (1, 103)\t0.22941573387056177\n",
      "  (1, 53)\t0.22941573387056177\n",
      "  (1, 78)\t0.22941573387056177\n",
      "  (1, 60)\t0.22941573387056177\n",
      "  (1, 4)\t0.22941573387056177\n",
      "  (1, 77)\t0.22941573387056177\n",
      "  (1, 102)\t0.22941573387056177\n",
      "  (1, 55)\t0.22941573387056177\n",
      "  (1, 39)\t0.22941573387056177\n",
      "  (1, 90)\t0.22941573387056177\n",
      "  (1, 3)\t0.22941573387056177\n",
      "  (1, 6)\t0.22941573387056177\n",
      "  (1, 56)\t0.22941573387056177\n",
      "  (1, 61)\t0.22941573387056177\n",
      "  (1, 80)\t0.22941573387056177\n",
      "  (1, 79)\t0.45883146774112354\n",
      "  (2, 76)\t0.38409586926621725\n",
      "  (2, 63)\t0.38409586926621725\n",
      "  (2, 8)\t0.38409586926621725\n",
      "  (2, 64)\t0.38409586926621725\n",
      "  (2, 99)\t0.38409586926621725\n",
      "  (2, 92)\t0.38409586926621725\n",
      "  :\t:\n",
      "  (16, 85)\t0.3097257152388097\n",
      "  (16, 5)\t0.3097257152388097\n",
      "  (16, 107)\t0.3097257152388097\n",
      "  (16, 91)\t0.3097257152388097\n",
      "  (17, 67)\t0.6254156801659351\n",
      "  (17, 15)\t0.5517495931138422\n",
      "  (17, 50)\t0.5517495931138422\n",
      "  (18, 17)\t0.3463776614514737\n",
      "  (18, 38)\t0.3463776614514737\n",
      "  (18, 97)\t0.3463776614514737\n",
      "  (18, 27)\t0.3463776614514737\n",
      "  (18, 104)\t0.3463776614514737\n",
      "  (18, 83)\t0.3463776614514737\n",
      "  (18, 25)\t0.30557873719902345\n",
      "  (18, 68)\t0.30557873719902345\n",
      "  (18, 7)\t0.30557873719902345\n",
      "  (19, 101)\t0.46846768185954146\n",
      "  (19, 21)\t0.4132880915048498\n",
      "  (19, 40)\t0.4132880915048498\n",
      "  (19, 94)\t0.46846768185954146\n",
      "  (19, 22)\t0.46846768185954146\n",
      "  (20, 14)\t0.5475941168405349\n",
      "  (20, 21)\t0.4830944294171463\n",
      "  (20, 40)\t0.4830944294171463\n",
      "  (20, 51)\t0.4830944294171463\n"
     ]
    }
   ],
   "source": [
    "from sklearn.feature_extraction.text import TfidfVectorizer\n",
    "\n",
    "vectorizer = TfidfVectorizer(stop_words = 'english')\n",
    "response_27 = vectorizer.fit_transform(stc_split_27)\n",
    "print(response_27)"
   ]
  },
  {
   "cell_type": "code",
   "execution_count": 92,
   "metadata": {},
   "outputs": [
    {
     "name": "stdout",
     "output_type": "stream",
     "text": [
      "  (0, 59)\t1.0\n",
      "  (1, 75)\t0.4049107872502451\n",
      "  (1, 70)\t0.3680422462983246\n",
      "  (1, 50)\t0.4049107872502451\n",
      "  (1, 47)\t0.4049107872502451\n",
      "  (1, 90)\t0.4049107872502451\n",
      "  (1, 62)\t0.45687407719548967\n",
      "  (2, 51)\t0.37796447300922725\n",
      "  (2, 82)\t0.37796447300922725\n",
      "  (2, 86)\t0.37796447300922725\n",
      "  (2, 93)\t0.37796447300922725\n",
      "  (2, 78)\t0.37796447300922725\n",
      "  (2, 71)\t0.37796447300922725\n",
      "  (2, 45)\t0.37796447300922725\n",
      "  (3, 24)\t0.408248290463863\n",
      "  (3, 5)\t0.408248290463863\n",
      "  (3, 76)\t0.408248290463863\n",
      "  (3, 29)\t0.408248290463863\n",
      "  (3, 19)\t0.408248290463863\n",
      "  (3, 64)\t0.408248290463863\n",
      "  (4, 43)\t0.36846290733001397\n",
      "  (4, 81)\t0.4157487428536407\n",
      "  (4, 0)\t0.4157487428536407\n",
      "  (4, 83)\t0.4157487428536407\n",
      "  (4, 60)\t0.4157487428536407\n",
      "  :\t:\n",
      "  (16, 47)\t0.3267612120326924\n",
      "  (17, 21)\t0.5991717283560805\n",
      "  (17, 68)\t0.5991717283560805\n",
      "  (17, 50)\t0.5310239918097626\n",
      "  (18, 34)\t0.6236705456003366\n",
      "  (18, 55)\t0.5527363976393169\n",
      "  (18, 49)\t0.5527363976393169\n",
      "  (19, 94)\t1.0\n",
      "  (22, 80)\t0.405136017307996\n",
      "  (22, 1)\t0.45712821163209094\n",
      "  (22, 37)\t0.45712821163209094\n",
      "  (22, 38)\t0.45712821163209094\n",
      "  (22, 9)\t0.45712821163209094\n",
      "  (23, 40)\t0.29129073946857276\n",
      "  (23, 41)\t0.29129073946857276\n",
      "  (23, 42)\t0.29129073946857276\n",
      "  (23, 33)\t0.29129073946857276\n",
      "  (23, 92)\t0.29129073946857276\n",
      "  (23, 79)\t0.29129073946857276\n",
      "  (23, 30)\t0.29129073946857276\n",
      "  (23, 2)\t0.29129073946857276\n",
      "  (23, 35)\t0.29129073946857276\n",
      "  (23, 74)\t0.29129073946857276\n",
      "  (23, 69)\t0.29129073946857276\n",
      "  (23, 80)\t0.25816033021820617\n"
     ]
    }
   ],
   "source": [
    "from sklearn.feature_extraction.text import TfidfVectorizer\n",
    "\n",
    "vectorizer = TfidfVectorizer(stop_words = 'english')\n",
    "response_28 = vectorizer.fit_transform(stc_split_28)\n",
    "print(response_28)"
   ]
  },
  {
   "cell_type": "code",
   "execution_count": 93,
   "metadata": {},
   "outputs": [
    {
     "name": "stdout",
     "output_type": "stream",
     "text": [
      "  (0, 40)\t0.4594336046639039\n",
      "  (0, 3)\t0.4594336046639039\n",
      "  (0, 42)\t0.3945669165327051\n",
      "  (0, 102)\t0.4594336046639039\n",
      "  (0, 35)\t0.4594336046639039\n",
      "  (1, 38)\t0.4472135954999579\n",
      "  (1, 39)\t0.4472135954999579\n",
      "  (1, 41)\t0.4472135954999579\n",
      "  (1, 69)\t0.4472135954999579\n",
      "  (1, 79)\t0.4472135954999579\n",
      "  (2, 78)\t0.3779644730092272\n",
      "  (2, 11)\t0.3779644730092272\n",
      "  (2, 71)\t0.3779644730092272\n",
      "  (2, 87)\t0.3779644730092272\n",
      "  (2, 77)\t0.3779644730092272\n",
      "  (2, 25)\t0.3779644730092272\n",
      "  (2, 19)\t0.3779644730092272\n",
      "  (3, 27)\t0.2008526130237461\n",
      "  (3, 32)\t0.2008526130237461\n",
      "  (3, 7)\t0.2008526130237461\n",
      "  (3, 44)\t0.2008526130237461\n",
      "  (3, 98)\t0.2008526130237461\n",
      "  (3, 54)\t0.2008526130237461\n",
      "  (3, 16)\t0.15237419638861657\n",
      "  (3, 62)\t0.17249455719785864\n",
      "  :\t:\n",
      "  (8, 45)\t0.2221130006284605\n",
      "  (8, 61)\t0.2221130006284605\n",
      "  (8, 84)\t0.2221130006284605\n",
      "  (9, 88)\t0.2952034853949693\n",
      "  (9, 14)\t0.2952034853949693\n",
      "  (9, 10)\t0.2952034853949693\n",
      "  (9, 2)\t0.2952034853949693\n",
      "  (9, 33)\t0.2952034853949693\n",
      "  (9, 105)\t0.2952034853949693\n",
      "  (9, 22)\t0.2952034853949693\n",
      "  (9, 90)\t0.2952034853949693\n",
      "  (9, 28)\t0.2952034853949693\n",
      "  (9, 115)\t0.2952034853949693\n",
      "  (9, 59)\t0.2535241823836743\n",
      "  (9, 93)\t0.2535241823836743\n",
      "  (10, 17)\t0.3162277660168379\n",
      "  (10, 86)\t0.3162277660168379\n",
      "  (10, 60)\t0.3162277660168379\n",
      "  (10, 91)\t0.3162277660168379\n",
      "  (10, 12)\t0.3162277660168379\n",
      "  (10, 96)\t0.3162277660168379\n",
      "  (10, 51)\t0.3162277660168379\n",
      "  (10, 0)\t0.3162277660168379\n",
      "  (10, 114)\t0.3162277660168379\n",
      "  (10, 23)\t0.3162277660168379\n"
     ]
    }
   ],
   "source": [
    "from sklearn.feature_extraction.text import TfidfVectorizer\n",
    "\n",
    "vectorizer = TfidfVectorizer(stop_words = 'english')\n",
    "response_29 = vectorizer.fit_transform(stc_split_29)\n",
    "print(response_29)"
   ]
  },
  {
   "cell_type": "code",
   "execution_count": 94,
   "metadata": {},
   "outputs": [
    {
     "name": "stdout",
     "output_type": "stream",
     "text": [
      "  (0, 38)\t0.28667578270804966\n",
      "  (0, 0)\t0.28667578270804966\n",
      "  (0, 36)\t0.24370060599519158\n",
      "  (0, 10)\t0.28667578270804966\n",
      "  (0, 6)\t0.28667578270804966\n",
      "  (0, 52)\t0.24370060599519158\n",
      "  (0, 2)\t0.28667578270804966\n",
      "  (0, 56)\t0.28667578270804966\n",
      "  (0, 65)\t0.28667578270804966\n",
      "  (0, 27)\t0.28667578270804966\n",
      "  (0, 23)\t0.28667578270804966\n",
      "  (0, 47)\t0.24370060599519158\n",
      "  (0, 35)\t0.28667578270804966\n",
      "  (1, 13)\t0.7071067811865475\n",
      "  (1, 3)\t0.7071067811865475\n",
      "  (2, 60)\t0.4472135954999579\n",
      "  (2, 54)\t0.4472135954999579\n",
      "  (2, 25)\t0.4472135954999579\n",
      "  (2, 16)\t0.4472135954999579\n",
      "  (2, 69)\t0.4472135954999579\n",
      "  (3, 42)\t0.31622776601683794\n",
      "  (3, 34)\t0.31622776601683794\n",
      "  (3, 12)\t0.31622776601683794\n",
      "  (3, 51)\t0.31622776601683794\n",
      "  (3, 53)\t0.31622776601683794\n",
      "  :\t:\n",
      "  (7, 58)\t0.295587597585116\n",
      "  (7, 31)\t0.295587597585116\n",
      "  (7, 70)\t0.295587597585116\n",
      "  (7, 4)\t0.295587597585116\n",
      "  (7, 1)\t0.295587597585116\n",
      "  (7, 40)\t0.295587597585116\n",
      "  (7, 8)\t0.295587597585116\n",
      "  (7, 30)\t0.295587597585116\n",
      "  (7, 29)\t0.2512764628239137\n",
      "  (7, 11)\t0.295587597585116\n",
      "  (7, 57)\t0.295587597585116\n",
      "  (7, 36)\t0.2512764628239137\n",
      "  (8, 18)\t0.2544495436479381\n",
      "  (8, 67)\t0.2544495436479381\n",
      "  (8, 68)\t0.2544495436479381\n",
      "  (8, 33)\t0.5088990872958762\n",
      "  (8, 24)\t0.2544495436479381\n",
      "  (8, 21)\t0.2544495436479381\n",
      "  (8, 20)\t0.2544495436479381\n",
      "  (8, 61)\t0.2544495436479381\n",
      "  (8, 63)\t0.2544495436479381\n",
      "  (8, 22)\t0.2544495436479381\n",
      "  (8, 59)\t0.2544495436479381\n",
      "  (8, 29)\t0.21630535860558858\n",
      "  (8, 47)\t0.21630535860558858\n"
     ]
    }
   ],
   "source": [
    "from sklearn.feature_extraction.text import TfidfVectorizer\n",
    "\n",
    "vectorizer = TfidfVectorizer(stop_words = 'english')\n",
    "response_30 = vectorizer.fit_transform(stc_split_30)\n",
    "print(response_30)"
   ]
  },
  {
   "cell_type": "code",
   "execution_count": 95,
   "metadata": {},
   "outputs": [
    {
     "name": "stdout",
     "output_type": "stream",
     "text": [
      "  (0, 9)\t0.26093575512399203\n",
      "  (0, 20)\t0.30527242451585307\n",
      "  (0, 21)\t0.30527242451585307\n",
      "  (0, 47)\t0.30527242451585307\n",
      "  (0, 15)\t0.30527242451585307\n",
      "  (0, 3)\t0.30527242451585307\n",
      "  (0, 43)\t0.30527242451585307\n",
      "  (0, 41)\t0.30527242451585307\n",
      "  (0, 44)\t0.30527242451585307\n",
      "  (0, 31)\t0.30527242451585307\n",
      "  (0, 10)\t0.30527242451585307\n",
      "  (1, 6)\t0.5\n",
      "  (1, 2)\t0.5\n",
      "  (1, 24)\t0.5\n",
      "  (1, 40)\t0.5\n",
      "  (2, 33)\t0.31622776601683794\n",
      "  (2, 50)\t0.31622776601683794\n",
      "  (2, 7)\t0.31622776601683794\n",
      "  (2, 29)\t0.31622776601683794\n",
      "  (2, 13)\t0.31622776601683794\n",
      "  (2, 5)\t0.31622776601683794\n",
      "  (2, 18)\t0.31622776601683794\n",
      "  (2, 37)\t0.31622776601683794\n",
      "  (2, 49)\t0.31622776601683794\n",
      "  (2, 16)\t0.31622776601683794\n",
      "  :\t:\n",
      "  (4, 26)\t0.5773502691896258\n",
      "  (4, 35)\t0.5773502691896258\n",
      "  (4, 14)\t0.5773502691896258\n",
      "  (5, 25)\t1.0\n",
      "  (6, 12)\t0.605158729828086\n",
      "  (6, 39)\t0.605158729828086\n",
      "  (6, 9)\t0.5172676516328033\n",
      "  (7, 11)\t0.408248290463863\n",
      "  (7, 4)\t0.408248290463863\n",
      "  (7, 30)\t0.408248290463863\n",
      "  (7, 1)\t0.408248290463863\n",
      "  (7, 36)\t0.408248290463863\n",
      "  (7, 27)\t0.408248290463863\n",
      "  (8, 17)\t0.37796447300922725\n",
      "  (8, 19)\t0.37796447300922725\n",
      "  (8, 45)\t0.37796447300922725\n",
      "  (8, 32)\t0.37796447300922725\n",
      "  (8, 46)\t0.37796447300922725\n",
      "  (8, 28)\t0.37796447300922725\n",
      "  (8, 48)\t0.37796447300922725\n",
      "  (9, 23)\t0.4472135954999579\n",
      "  (9, 8)\t0.4472135954999579\n",
      "  (9, 38)\t0.4472135954999579\n",
      "  (9, 22)\t0.4472135954999579\n",
      "  (9, 34)\t0.4472135954999579\n"
     ]
    }
   ],
   "source": [
    "from sklearn.feature_extraction.text import TfidfVectorizer\n",
    "\n",
    "vectorizer = TfidfVectorizer(stop_words = 'english')\n",
    "response_31 = vectorizer.fit_transform(stc_split_31)\n",
    "print(response_31)"
   ]
  },
  {
   "cell_type": "code",
   "execution_count": 96,
   "metadata": {},
   "outputs": [
    {
     "name": "stdout",
     "output_type": "stream",
     "text": [
      "  (0, 49)\t0.5773502691896258\n",
      "  (0, 19)\t0.5773502691896258\n",
      "  (0, 43)\t0.5773502691896258\n",
      "  (1, 36)\t0.4472135954999579\n",
      "  (1, 20)\t0.4472135954999579\n",
      "  (1, 50)\t0.4472135954999579\n",
      "  (1, 68)\t0.4472135954999579\n",
      "  (1, 3)\t0.4472135954999579\n",
      "  (2, 52)\t0.5\n",
      "  (2, 24)\t0.5\n",
      "  (2, 12)\t0.5\n",
      "  (2, 72)\t0.5\n",
      "  (3, 10)\t0.3329333185665643\n",
      "  (3, 85)\t0.2927962136753936\n",
      "  (3, 53)\t0.2927962136753936\n",
      "  (3, 78)\t0.38950339064352696\n",
      "  (3, 40)\t0.38950339064352696\n",
      "  (3, 55)\t0.3329333185665643\n",
      "  (3, 14)\t0.38950339064352696\n",
      "  (3, 35)\t0.38950339064352696\n",
      "  (4, 84)\t0.24900799141175786\n",
      "  (4, 71)\t0.29131796532050175\n",
      "  (4, 42)\t0.24900799141175786\n",
      "  (4, 41)\t0.29131796532050175\n",
      "  (4, 27)\t0.29131796532050175\n",
      "  :\t:\n",
      "  (8, 33)\t0.24045341127264058\n",
      "  (8, 39)\t0.24045341127264058\n",
      "  (8, 74)\t0.24045341127264058\n",
      "  (8, 79)\t0.24045341127264058\n",
      "  (8, 13)\t0.24045341127264058\n",
      "  (8, 45)\t0.24045341127264058\n",
      "  (8, 16)\t0.24045341127264058\n",
      "  (8, 85)\t0.18075285113601203\n",
      "  (9, 73)\t0.24647263345973666\n",
      "  (9, 67)\t0.24647263345973666\n",
      "  (9, 15)\t0.24647263345973666\n",
      "  (9, 8)\t0.24647263345973666\n",
      "  (9, 7)\t0.24647263345973666\n",
      "  (9, 11)\t0.24647263345973666\n",
      "  (9, 29)\t0.24647263345973666\n",
      "  (9, 0)\t0.24647263345973666\n",
      "  (9, 80)\t0.24647263345973666\n",
      "  (9, 81)\t0.24647263345973666\n",
      "  (9, 23)\t0.24647263345973666\n",
      "  (9, 26)\t0.24647263345973666\n",
      "  (9, 82)\t0.24647263345973666\n",
      "  (9, 77)\t0.24647263345973666\n",
      "  (9, 32)\t0.24647263345973666\n",
      "  (9, 48)\t0.21067583431819414\n",
      "  (9, 9)\t0.21067583431819414\n"
     ]
    }
   ],
   "source": [
    "from sklearn.feature_extraction.text import TfidfVectorizer\n",
    "\n",
    "vectorizer = TfidfVectorizer(stop_words = 'english')\n",
    "response_32 = vectorizer.fit_transform(stc_split_32)\n",
    "print(response_32)"
   ]
  },
  {
   "cell_type": "code",
   "execution_count": 97,
   "metadata": {},
   "outputs": [
    {
     "name": "stdout",
     "output_type": "stream",
     "text": [
      "  (0, 31)\t0.3779644730092272\n",
      "  (0, 35)\t0.3779644730092272\n",
      "  (0, 7)\t0.3779644730092272\n",
      "  (0, 17)\t0.3779644730092272\n",
      "  (0, 21)\t0.3779644730092272\n",
      "  (0, 37)\t0.3779644730092272\n",
      "  (0, 30)\t0.3779644730092272\n",
      "  (1, 28)\t0.5467790631887662\n",
      "  (1, 41)\t0.5467790631887662\n",
      "  (1, 26)\t0.44836665359771705\n",
      "  (1, 18)\t0.44836665359771705\n",
      "  (2, 8)\t0.4797475439396706\n",
      "  (2, 9)\t0.4797475439396706\n",
      "  (2, 25)\t0.4797475439396706\n",
      "  (2, 26)\t0.39339984891428303\n",
      "  (2, 18)\t0.39339984891428303\n",
      "  (3, 11)\t0.3333333333333333\n",
      "  (3, 13)\t0.3333333333333333\n",
      "  (3, 34)\t0.3333333333333333\n",
      "  (3, 36)\t0.3333333333333333\n",
      "  (3, 15)\t0.3333333333333333\n",
      "  (3, 33)\t0.3333333333333333\n",
      "  (3, 12)\t0.3333333333333333\n",
      "  (3, 20)\t0.3333333333333333\n",
      "  (3, 24)\t0.3333333333333333\n",
      "  (4, 14)\t0.2294157338705618\n",
      "  (4, 19)\t0.2294157338705618\n",
      "  (4, 39)\t0.2294157338705618\n",
      "  (4, 4)\t0.2294157338705618\n",
      "  (4, 22)\t0.2294157338705618\n",
      "  (4, 3)\t0.2294157338705618\n",
      "  (4, 29)\t0.2294157338705618\n",
      "  (4, 10)\t0.2294157338705618\n",
      "  (4, 0)\t0.2294157338705618\n",
      "  (4, 40)\t0.2294157338705618\n",
      "  (4, 27)\t0.2294157338705618\n",
      "  (4, 23)\t0.2294157338705618\n",
      "  (4, 2)\t0.2294157338705618\n",
      "  (4, 38)\t0.2294157338705618\n",
      "  (4, 6)\t0.2294157338705618\n",
      "  (4, 1)\t0.2294157338705618\n",
      "  (4, 32)\t0.2294157338705618\n",
      "  (4, 16)\t0.2294157338705618\n",
      "  (4, 5)\t0.2294157338705618\n"
     ]
    }
   ],
   "source": [
    "from sklearn.feature_extraction.text import TfidfVectorizer\n",
    "\n",
    "vectorizer = TfidfVectorizer(stop_words = 'english')\n",
    "response_33 = vectorizer.fit_transform(stc_split_33)\n",
    "print(response_33)"
   ]
  },
  {
   "cell_type": "code",
   "execution_count": 98,
   "metadata": {},
   "outputs": [
    {
     "name": "stdout",
     "output_type": "stream",
     "text": [
      "  (0, 39)\t0.5773502691896257\n",
      "  (0, 26)\t0.5773502691896257\n",
      "  (0, 20)\t0.5773502691896257\n",
      "  (1, 115)\t0.4472135954999579\n",
      "  (1, 65)\t0.4472135954999579\n",
      "  (1, 29)\t0.4472135954999579\n",
      "  (1, 32)\t0.4472135954999579\n",
      "  (1, 24)\t0.4472135954999579\n",
      "  (2, 93)\t0.4561989485951171\n",
      "  (2, 77)\t0.4093043820958175\n",
      "  (2, 19)\t0.4561989485951171\n",
      "  (2, 30)\t0.4561989485951171\n",
      "  (2, 9)\t0.4561989485951171\n",
      "  (3, 99)\t0.49545233775137654\n",
      "  (3, 70)\t0.40838763911411335\n",
      "  (3, 140)\t0.49545233775137654\n",
      "  (3, 103)\t0.38035906654987683\n",
      "  (3, 138)\t0.44452275391198925\n",
      "  (4, 88)\t0.8459579762756715\n",
      "  (4, 51)\t0.42297898813783574\n",
      "  (4, 103)\t0.3247212311652305\n",
      "  (5, 45)\t0.5773502691896257\n",
      "  (5, 139)\t0.5773502691896257\n",
      "  (5, 110)\t0.5773502691896257\n",
      "  (6, 116)\t0.3370046183050653\n",
      "  :\t:\n",
      "  (33, 78)\t0.2453667714453835\n",
      "  (33, 43)\t0.2453667714453835\n",
      "  (33, 94)\t0.2453667714453835\n",
      "  (33, 66)\t0.2453667714453835\n",
      "  (33, 109)\t0.2453667714453835\n",
      "  (33, 100)\t0.22014451169292615\n",
      "  (33, 23)\t0.22014451169292615\n",
      "  (34, 74)\t0.41504930966274184\n",
      "  (34, 97)\t0.37238468381823553\n",
      "  (34, 126)\t0.41504930966274184\n",
      "  (34, 40)\t0.41504930966274184\n",
      "  (34, 106)\t0.41504930966274184\n",
      "  (34, 122)\t0.41504930966274184\n",
      "  (35, 132)\t0.29598061934813436\n",
      "  (35, 114)\t0.29598061934813436\n",
      "  (35, 50)\t0.29598061934813436\n",
      "  (35, 68)\t0.29598061934813436\n",
      "  (35, 14)\t0.29598061934813436\n",
      "  (35, 53)\t0.29598061934813436\n",
      "  (35, 2)\t0.29598061934813436\n",
      "  (35, 3)\t0.29598061934813436\n",
      "  (35, 58)\t0.29598061934813436\n",
      "  (35, 97)\t0.26555555396981945\n",
      "  (35, 112)\t0.26555555396981945\n",
      "  (35, 69)\t0.26555555396981945\n"
     ]
    }
   ],
   "source": [
    "from sklearn.feature_extraction.text import TfidfVectorizer\n",
    "\n",
    "vectorizer = TfidfVectorizer(stop_words = 'english')\n",
    "response_34 = vectorizer.fit_transform(stc_split_34)\n",
    "print(response_34)"
   ]
  },
  {
   "cell_type": "code",
   "execution_count": 99,
   "metadata": {},
   "outputs": [
    {
     "name": "stdout",
     "output_type": "stream",
     "text": [
      "  (0, 69)\t0.7071067811865475\n",
      "  (0, 68)\t0.7071067811865475\n",
      "  (1, 50)\t0.4722170808267303\n",
      "  (1, 3)\t0.4722170808267303\n",
      "  (1, 62)\t0.32870064542365135\n",
      "  (1, 34)\t0.4722170808267303\n",
      "  (1, 65)\t0.4722170808267303\n",
      "  (2, 15)\t0.3244731446240598\n",
      "  (2, 66)\t0.3244731446240598\n",
      "  (2, 0)\t0.3244731446240598\n",
      "  (2, 33)\t0.3244731446240598\n",
      "  (2, 63)\t0.2808357414416757\n",
      "  (2, 42)\t0.2808357414416757\n",
      "  (2, 8)\t0.3244731446240598\n",
      "  (2, 57)\t0.3244731446240598\n",
      "  (2, 19)\t0.3244731446240598\n",
      "  (2, 61)\t0.3244731446240598\n",
      "  (3, 41)\t0.408248290463863\n",
      "  (3, 54)\t0.408248290463863\n",
      "  (3, 55)\t0.408248290463863\n",
      "  (3, 36)\t0.408248290463863\n",
      "  (3, 72)\t0.408248290463863\n",
      "  (3, 31)\t0.408248290463863\n",
      "  (4, 74)\t0.47149748392140167\n",
      "  (4, 5)\t0.47149748392140167\n",
      "  :\t:\n",
      "  (9, 23)\t0.7071067811865475\n",
      "  (10, 48)\t0.53570796133107\n",
      "  (10, 6)\t0.53570796133107\n",
      "  (10, 35)\t0.53570796133107\n",
      "  (10, 62)\t0.3728953479188582\n",
      "  (11, 13)\t0.5773502691896257\n",
      "  (11, 40)\t0.5773502691896257\n",
      "  (11, 64)\t0.5773502691896257\n",
      "  (12, 46)\t0.23421008009432712\n",
      "  (12, 16)\t0.23421008009432712\n",
      "  (12, 73)\t0.23421008009432712\n",
      "  (12, 7)\t0.23421008009432712\n",
      "  (12, 24)\t0.23421008009432712\n",
      "  (12, 53)\t0.23421008009432712\n",
      "  (12, 30)\t0.23421008009432712\n",
      "  (12, 12)\t0.23421008009432712\n",
      "  (12, 39)\t0.23421008009432712\n",
      "  (12, 14)\t0.23421008009432712\n",
      "  (12, 9)\t0.23421008009432712\n",
      "  (12, 43)\t0.23421008009432712\n",
      "  (12, 56)\t0.23421008009432712\n",
      "  (12, 59)\t0.23421008009432712\n",
      "  (12, 71)\t0.20271188104831345\n",
      "  (12, 60)\t0.4054237620966269\n",
      "  (12, 62)\t0.16302884333821538\n"
     ]
    }
   ],
   "source": [
    "from sklearn.feature_extraction.text import TfidfVectorizer\n",
    "\n",
    "vectorizer = TfidfVectorizer(stop_words = 'english')\n",
    "response_35 = vectorizer.fit_transform(stc_split_35)\n",
    "print(response_35)"
   ]
  },
  {
   "cell_type": "code",
   "execution_count": 100,
   "metadata": {},
   "outputs": [
    {
     "name": "stdout",
     "output_type": "stream",
     "text": [
      "  (0, 37)\t0.2672612419124244\n",
      "  (0, 28)\t0.2672612419124244\n",
      "  (0, 4)\t0.2672612419124244\n",
      "  (0, 23)\t0.2672612419124244\n",
      "  (0, 22)\t0.2672612419124244\n",
      "  (0, 27)\t0.2672612419124244\n",
      "  (0, 21)\t0.2672612419124244\n",
      "  (0, 13)\t0.2672612419124244\n",
      "  (0, 19)\t0.2672612419124244\n",
      "  (0, 24)\t0.2672612419124244\n",
      "  (0, 12)\t0.2672612419124244\n",
      "  (0, 15)\t0.2672612419124244\n",
      "  (0, 1)\t0.2672612419124244\n",
      "  (0, 9)\t0.2672612419124244\n",
      "  (1, 41)\t0.4618042361109319\n",
      "  (1, 10)\t0.4618042361109319\n",
      "  (1, 6)\t0.4618042361109319\n",
      "  (1, 31)\t0.4618042361109319\n",
      "  (1, 18)\t0.38333717539523177\n",
      "  (2, 26)\t0.40598354546996046\n",
      "  (2, 29)\t0.40598354546996046\n",
      "  (2, 34)\t0.337001208321554\n",
      "  (2, 17)\t0.337001208321554\n",
      "  (2, 20)\t0.40598354546996046\n",
      "  (2, 39)\t0.40598354546996046\n",
      "  (2, 18)\t0.337001208321554\n",
      "  (3, 16)\t0.2773500981126145\n",
      "  (3, 40)\t0.2773500981126145\n",
      "  (3, 38)\t0.2773500981126145\n",
      "  (3, 36)\t0.2773500981126145\n",
      "  (3, 30)\t0.2773500981126145\n",
      "  (3, 2)\t0.2773500981126145\n",
      "  (3, 25)\t0.2773500981126145\n",
      "  (3, 35)\t0.2773500981126145\n",
      "  (3, 33)\t0.2773500981126145\n",
      "  (3, 0)\t0.2773500981126145\n",
      "  (3, 7)\t0.2773500981126145\n",
      "  (3, 11)\t0.2773500981126145\n",
      "  (3, 5)\t0.2773500981126145\n",
      "  (5, 8)\t0.4312073587067964\n",
      "  (5, 14)\t0.4312073587067964\n",
      "  (5, 32)\t0.4312073587067964\n",
      "  (5, 3)\t0.4312073587067964\n",
      "  (5, 34)\t0.3579391395114768\n",
      "  (5, 17)\t0.3579391395114768\n"
     ]
    }
   ],
   "source": [
    "from sklearn.feature_extraction.text import TfidfVectorizer\n",
    "\n",
    "vectorizer = TfidfVectorizer(stop_words = 'english')\n",
    "response_36 = vectorizer.fit_transform(stc_split_36)\n",
    "print(response_36)"
   ]
  },
  {
   "cell_type": "code",
   "execution_count": null,
   "metadata": {},
   "outputs": [],
   "source": []
  }
 ],
 "metadata": {
  "kernelspec": {
   "display_name": "Python 3.9.7 ('base')",
   "language": "python",
   "name": "python3"
  },
  "language_info": {
   "codemirror_mode": {
    "name": "ipython",
    "version": 3
   },
   "file_extension": ".py",
   "mimetype": "text/x-python",
   "name": "python",
   "nbconvert_exporter": "python",
   "pygments_lexer": "ipython3",
   "version": "3.9.7"
  },
  "orig_nbformat": 4,
  "vscode": {
   "interpreter": {
    "hash": "8fb484011b3202ee6599ea14265d29221a78b551cefeb2c44fb9512ec2282cfd"
   }
  }
 },
 "nbformat": 4,
 "nbformat_minor": 2
}
